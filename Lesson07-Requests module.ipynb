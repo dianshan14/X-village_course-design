{
 "cells": [
  {
   "cell_type": "markdown",
   "metadata": {
    "slideshow": {
     "slide_type": "slide"
    }
   },
   "source": [
    "# [X-Village] Lesson07 - Requests module\n",
    "by 陳殿善"
   ]
  },
  {
   "cell_type": "markdown",
   "metadata": {
    "slideshow": {
     "slide_type": "subslide"
    }
   },
   "source": [
    "1. 為什麼叫做 Requests\n",
    "    * request/response\n",
    "        * Client/Server\n",
    "        * IP:Port\n",
    "2. HTTP protocol\n",
    "    * URL\n",
    "    * handshaking\n",
    "        * request/response\n",
    "    * HTTP method\n",
    "    * HTTPs\n",
    "3. DevTool (Chrome)\n",
    "    * Demo request/response\n",
    "    * Render response\n",
    "    * HTML\n",
    "        * <tag\\>\n",
    "            * attribute\n",
    "        * DOM\n",
    "        * Delete element           \n",
    "4. back to Requests\n",
    "    * 結合 Requests 與 HTTP method\n",
    "    * 結合 Requests 與 DevTool Network"
   ]
  },
  {
   "cell_type": "markdown",
   "metadata": {
    "slideshow": {
     "slide_type": "slide"
    }
   },
   "source": [
    "# 為什麼叫做 `Requests`\n",
    "* request/response\n",
    "    * Client/Server\n",
    "    * Internet\n",
    "        * IP:Port"
   ]
  },
  {
   "cell_type": "markdown",
   "metadata": {
    "slideshow": {
     "slide_type": "fragment"
    }
   },
   "source": [
    "![request_response](./src/request_response.png)"
   ]
  },
  {
   "cell_type": "markdown",
   "metadata": {
    "slideshow": {
     "slide_type": "slide"
    }
   },
   "source": [
    "# 用什麼星球的語言溝通\n",
    "* HTTP protocol\n",
    "    * URL\n",
    "    * handshaking\n",
    "        * request/response\n",
    "    * HTTP method\n",
    "    * HTTPs"
   ]
  },
  {
   "cell_type": "markdown",
   "metadata": {
    "slideshow": {
     "slide_type": "subslide"
    }
   },
   "source": [
    "## Hypertext Transfer Protocol ([HTTP 協定](https://developer.mozilla.org/en-US/docs/Web/HTTP/Messages))\n",
    "<center><img src=\"./src/http_protocol.png\" alt=\"http_protocol\"></img></center>\n",
    "如同大家在網址上經常看到的"
   ]
  },
  {
   "cell_type": "markdown",
   "metadata": {
    "slideshow": {
     "slide_type": "subslide"
    }
   },
   "source": [
    "## Transmission Control Protocol (TCP) / handshaking\n",
    "<center><img alt=\"handshaking\" src=\"./src/handshaking.png\"></img></center>\n",
    "底層傳輸的協定以及用到的方法"
   ]
  },
  {
   "cell_type": "markdown",
   "metadata": {
    "slideshow": {
     "slide_type": "subslide"
    }
   },
   "source": [
    "## HTTPS\n",
    "* 那我們現在經常看到的 https 跟 http 是否一樣呢?"
   ]
  },
  {
   "cell_type": "markdown",
   "metadata": {
    "slideshow": {
     "slide_type": "fragment"
    }
   },
   "source": [
    "<center><img alt=\"http\" src=\"./src/http_URL.png\"></img></center>\n",
    "[例子](http://www.ltn.com.tw/)\n",
    "\n",
    "\n",
    "---\n",
    "\n",
    "\n",
    "<center><img alt=\"https\" src=\"./src/https_URL.png\"></img></center>\n",
    "[例子](https://www.google.com/)"
   ]
  },
  {
   "cell_type": "markdown",
   "metadata": {
    "slideshow": {
     "slide_type": "subslide"
    }
   },
   "source": [
    "### Secure Sockets Layer (SSL) / Transport Layer Security (TLS)\n",
    "SSL包含記錄層（Record Layer）和傳輸層，記錄層協定確定傳輸層資料的封裝格式。傳輸層安全協議使用X.509認證，之後利用非對稱加密演算來對通訊方做身分認證，之後交換對稱金鑰作為會談金鑰（Session key）。這個會談金鑰是用來將通訊兩方交換的資料做加密，保證兩個應用間通訊的保密性和可靠性，使客戶與伺服器應用之間的通訊不被攻擊者竊聽。"
   ]
  },
  {
   "cell_type": "markdown",
   "metadata": {
    "slideshow": {
     "slide_type": "subslide"
    }
   },
   "source": [
    "* 需要這些的原因\n",
    "    * 避免資料被盜取\n",
    "        * [Man-in-the-middle attack](https://www.wikiwand.com/zh-tw/%E4%B8%AD%E9%97%B4%E4%BA%BA%E6%94%BB%E5%87%BB)\n",
    "    * 避免收到不安全的資料"
   ]
  },
  {
   "cell_type": "markdown",
   "metadata": {
    "slideshow": {
     "slide_type": "slide"
    }
   },
   "source": [
    "## HTTP message\n",
    "* how data is exchanged between a server and a client"
   ]
  },
  {
   "cell_type": "markdown",
   "metadata": {
    "slideshow": {
     "slide_type": "subslide"
    }
   },
   "source": [
    "## HTTP message\n",
    "* two types\n",
    "    * requests sent by the client to trigger an action on the server,\n",
    "    * responses, the answer from the server."
   ]
  },
  {
   "cell_type": "markdown",
   "metadata": {
    "slideshow": {
     "slide_type": "subslide"
    }
   },
   "source": [
    "### Format\n",
    "<center><img src=\"./src/http_message.png\" alt=\"http_message\"></img></center>\n"
   ]
  },
  {
   "cell_type": "markdown",
   "metadata": {
    "slideshow": {
     "slide_type": "subslide"
    }
   },
   "source": [
    "<center><img src=\"./src/request_response_message.png\" alt=\"request_response_message\"></img></center>\n",
    "\n",
    "用這個格式溝通，就不用使用一堆語言跟一堆不同國家的人溝通"
   ]
  },
  {
   "cell_type": "markdown",
   "metadata": {
    "slideshow": {
     "slide_type": "subslide"
    }
   },
   "source": [
    "## Request message\n",
    "![request](./src/request_.png)\n",
    "\n",
    "[圖片來源](https://developer.mozilla.org/en-US/docs/Web/HTTP/Messages)"
   ]
  },
  {
   "cell_type": "markdown",
   "metadata": {
    "slideshow": {
     "slide_type": "subslide"
    }
   },
   "source": [
    "### Request message : Start line\n",
    "<center><img alt=\"request-startline\" src=\"./src/request_startline.png\"></img></center>"
   ]
  },
  {
   "cell_type": "markdown",
   "metadata": {
    "slideshow": {
     "slide_type": "subslide"
    }
   },
   "source": [
    "### HTTP Method\n",
    "* <mark style=\"font-size:40px; font-weight: bold;\">GET</mark>\n",
    "* <mark style=\"font-size:40px; font-weight: bold;\">POST</mark>\n",
    "* DELETE\n",
    "* PUT\n",
    "* HEAD\n",
    "* CONNECT \n",
    "* OPTIONS\n",
    "* TRACE \n",
    "* PATCH \n",
    "\n",
    "[參考連結(英)](https://developer.mozilla.org/en-US/docs/Web/HTTP/Methods)\n",
    "[參考連結(中)](https://developer.mozilla.org/zh-TW/docs/Web/HTTP/Methods)"
   ]
  },
  {
   "cell_type": "markdown",
   "metadata": {
    "slideshow": {
     "slide_type": "subslide"
    }
   },
   "source": [
    "### HTTP Method : GET\n",
    "* GET : 請求指定資源"
   ]
  },
  {
   "cell_type": "markdown",
   "metadata": {
    "slideshow": {
     "slide_type": "fragment"
    }
   },
   "source": [
    "<center><img alt=\"get_method\" src=\"./src/get_method.png\"></img></center>"
   ]
  },
  {
   "cell_type": "markdown",
   "metadata": {
    "slideshow": {
     "slide_type": "subslide"
    }
   },
   "source": [
    "### HTTP Method : POST\n",
    "* POST : 用於提交指定資源的實體，通常會改變伺服器的狀態或副作用\n",
    "\n",
    "POST 改變狀態，下次只要登入，因為伺服端已經有你的資訊了，不用再次註冊"
   ]
  },
  {
   "cell_type": "markdown",
   "metadata": {
    "slideshow": {
     "slide_type": "fragment"
    }
   },
   "source": [
    "<center><img alt=\"post_method\" src=\"./src/post_method.png\"></img></center>"
   ]
  },
  {
   "cell_type": "markdown",
   "metadata": {
    "slideshow": {
     "slide_type": "subslide"
    }
   },
   "source": [
    "## Request message\n",
    "![request](./src/request_.png)\n",
    "\n",
    "[圖片來源](https://developer.mozilla.org/en-US/docs/Web/HTTP/Messages)"
   ]
  },
  {
   "cell_type": "markdown",
   "metadata": {
    "slideshow": {
     "slide_type": "subslide"
    }
   },
   "source": [
    "## Response message\n",
    "![response](./src/response_.png)\n",
    "\n",
    "\n",
    "[圖片來源](https://developer.mozilla.org/en-US/docs/Web/HTTP/Messages)"
   ]
  },
  {
   "cell_type": "markdown",
   "metadata": {
    "slideshow": {
     "slide_type": "subslide"
    }
   },
   "source": [
    "### Response message : Start line\n",
    "![request-startline](./src/response_startline.png)"
   ]
  },
  {
   "cell_type": "markdown",
   "metadata": {
    "slideshow": {
     "slide_type": "subslide"
    }
   },
   "source": [
    "### Status code\n"
   ]
  },
  {
   "cell_type": "markdown",
   "metadata": {
    "slideshow": {
     "slide_type": "subslide"
    }
   },
   "source": [
    "<center><img src=\"./src/404.png\" width=\"70%\" height=\"70%\"></img></center>"
   ]
  },
  {
   "cell_type": "markdown",
   "metadata": {
    "slideshow": {
     "slide_type": "subslide"
    }
   },
   "source": [
    "<center><img src=\"./src/404_highlight.png\" width=\"70%\" height=\"70%\"></img></center>"
   ]
  },
  {
   "cell_type": "markdown",
   "metadata": {
    "slideshow": {
     "slide_type": "subslide"
    }
   },
   "source": [
    "### Status code\n",
    "* **1xx** &#160;  訊息 \n",
    "* **2xx** &#160;  成功 \n",
    "* **3xx** &#160;  重新導向 \n",
    "* **4xx** &#160;  請求錯誤 \n",
    "* **5xx** &#160;  伺服器錯誤 \n",
    "\n",
    "— 請求已被伺服端接收 <br>\n",
    "— 請求已成功被伺服器接收、理解、並接受 <br>\n",
    "— 需要後續操作才能完成這一請求 <br>\n",
    "— 請求含有詞法錯誤或者無法被執行 <br>\n",
    "— 伺服器在處理某個正確請求時發生錯誤 <br>"
   ]
  },
  {
   "cell_type": "markdown",
   "metadata": {
    "slideshow": {
     "slide_type": "subslide"
    }
   },
   "source": [
    "### Status code 範例\n",
    "* `200 OK` : 請求成功 <br>\n",
    "* `404 Not Found` : 找不到請求的資源\n",
    "* `405 Method Not Allowed` : 伺服端理解的 HTTP Method，但它被禁用或不可被使用"
   ]
  },
  {
   "cell_type": "markdown",
   "metadata": {
    "slideshow": {
     "slide_type": "subslide"
    }
   },
   "source": [
    "## Response message\n",
    "![response](./src/response_.png)\n",
    "\n",
    "有些 header 與 request 的欄位名字相同，有些則為 response 才有的，例如: eTag : 某個資源的版本\n",
    "\n",
    "[圖片來源](https://developer.mozilla.org/en-US/docs/Web/HTTP/Messages)"
   ]
  },
  {
   "cell_type": "markdown",
   "metadata": {
    "slideshow": {
     "slide_type": "subslide"
    }
   },
   "source": [
    "### Request message\n",
    "<img src=\"./src/request_.png\" alter=\"request\" width=\"600px\" height=\"300px\">\n",
    "<hr>\n",
    "### Response message\n",
    "<img src=\"./src/response_.png\" alter=\"request\" width=\"600px\" height=\"300px\">"
   ]
  },
  {
   "cell_type": "markdown",
   "metadata": {
    "slideshow": {
     "slide_type": "slide"
    }
   },
   "source": [
    "# DevTool  (Google Chrome 瀏覽器)\n",
    "* Demo request/response\n",
    "* Render response\n",
    "* HTML\n",
    "    * <tag\\>\n",
    "        * attribute\n",
    "    * DOM\n",
    "    * Delete element\n",
    "<br>\n",
    "[參考連結](https://developers.google.com/web/tools/chrome-devtools/?hl=zh-tw#_2)"
   ]
  },
  {
   "cell_type": "markdown",
   "metadata": {
    "slideshow": {
     "slide_type": "subslide"
    }
   },
   "source": [
    "### 如何打開 DevTool\n",
    "* 在 Chrome 瀏覽器下對網頁點右鍵->檢查"
   ]
  },
  {
   "cell_type": "markdown",
   "metadata": {
    "slideshow": {
     "slide_type": "fragment"
    }
   },
   "source": [
    "![devtool](./src/devtool.png)"
   ]
  },
  {
   "cell_type": "markdown",
   "metadata": {
    "slideshow": {
     "slide_type": "subslide"
    }
   },
   "source": [
    "### 查看 `Elements`"
   ]
  },
  {
   "cell_type": "markdown",
   "metadata": {
    "slideshow": {
     "slide_type": "fragment"
    }
   },
   "source": [
    "* HyperText Markup Language (HTML) / HTML tag\n",
    "![devtool_html](./src/devtool_html.png)"
   ]
  },
  {
   "cell_type": "markdown",
   "metadata": {
    "slideshow": {
     "slide_type": "subslide"
    }
   },
   "source": [
    "* attribute\n",
    "![devtool_html](./src/devtool_attribute.png)"
   ]
  },
  {
   "cell_type": "markdown",
   "metadata": {
    "slideshow": {
     "slide_type": "subslide"
    }
   },
   "source": [
    "## 練習\n",
    "標題 [Requests 模組練習頁面] 的 html tag 是什麼？有什麼 attribute? attribute 的 value 是什麼?"
   ]
  },
  {
   "cell_type": "markdown",
   "metadata": {
    "slideshow": {
     "slide_type": "subslide"
    }
   },
   "source": [
    "### 查看 `Console`\n",
    "* 查看網頁錯誤訊息\n",
    "* 輸入 JavaScript"
   ]
  },
  {
   "cell_type": "markdown",
   "metadata": {
    "slideshow": {
     "slide_type": "subslide"
    }
   },
   "source": [
    "#### 查看網頁錯誤訊息\n",
    "![devtool_error](./src/devtool_console_error.png)"
   ]
  },
  {
   "cell_type": "markdown",
   "metadata": {
    "slideshow": {
     "slide_type": "subslide"
    }
   },
   "source": [
    "#### 輸入 JavaScript\n",
    "![javascript](./src/devtool_javascript_1.png)"
   ]
  },
  {
   "cell_type": "markdown",
   "metadata": {
    "slideshow": {
     "slide_type": "subslide"
    }
   },
   "source": [
    "## 練習\n",
    "使用 JavaScript `document.getElementById();` 找到 `id` 為 `page-introduction` 的物件，請問其為什麼 tag"
   ]
  },
  {
   "cell_type": "markdown",
   "metadata": {
    "slideshow": {
     "slide_type": "subslide"
    }
   },
   "source": [
    "### 查看 `Network`\n",
    "* 點 `Network`\n",
    "* 按鍵盤組合鍵 `Ctrl+F5`"
   ]
  },
  {
   "cell_type": "markdown",
   "metadata": {
    "slideshow": {
     "slide_type": "subslide"
    }
   },
   "source": [
    "![stream](./src/devtool_network_stream.png)"
   ]
  },
  {
   "cell_type": "markdown",
   "metadata": {
    "slideshow": {
     "slide_type": "subslide"
    }
   },
   "source": [
    "![stream](./src/devtool_network_header.png)"
   ]
  },
  {
   "cell_type": "markdown",
   "metadata": {
    "slideshow": {
     "slide_type": "slide"
    }
   },
   "source": [
    "# 回到 `Requests`\n",
    "* 結合 Requests 與 HTTP method\n",
    "* 結合 Requests 與 DevTool Network"
   ]
  },
  {
   "cell_type": "markdown",
   "metadata": {
    "slideshow": {
     "slide_type": "slide"
    }
   },
   "source": [
    "## 參考資料\n",
    "* [MDN - HTTP message](https://developer.mozilla.org/en-US/docs/Web/HTTP/Messages)\n",
    "* [MDN - HTTP request methods](https://developer.mozilla.org/en-US/docs/Web/HTTP/Methods)\n",
    "* [TCP / three way handshake](https://notfalse.net/7/three-way-handshake)\n",
    "* [什麼是 SSL、TLS 以及 HTTPS？](https://www.websecurity.symantec.com/zh/tw/security-topics/what-is-ssl-tls-https)\n",
    "* [MDN - HTTP Response status code](https://developer.mozilla.org/zh-TW/docs/Web/HTTP/Status)"
   ]
  }
 ],
 "metadata": {
  "celltoolbar": "Slideshow",
  "kernelspec": {
   "display_name": "Python 3",
   "language": "python",
   "name": "python3"
  },
  "language_info": {
   "codemirror_mode": {
    "name": "ipython",
    "version": 3
   },
   "file_extension": ".py",
   "mimetype": "text/x-python",
   "name": "python",
   "nbconvert_exporter": "python",
   "pygments_lexer": "ipython3",
   "version": "3.5.2"
  }
 },
 "nbformat": 4,
 "nbformat_minor": 2
}
