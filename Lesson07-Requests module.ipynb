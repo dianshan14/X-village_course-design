{
 "cells": [
  {
   "cell_type": "markdown",
   "metadata": {
    "slideshow": {
     "slide_type": "slide"
    }
   },
   "source": [
    "# [X-Village] Lesson07 - Requests module\n",
    "by 陳殿善"
   ]
  },
  {
   "cell_type": "markdown",
   "metadata": {
    "slideshow": {
     "slide_type": "subslide"
    }
   },
   "source": [
    "1. 為什麼叫做 Requests\n",
    "    * request/response\n",
    "        * Client/Server\n",
    "        * IP:Port\n",
    "    * HTTP protocol\n",
    "        * URL\n",
    "        * HTTPs\n",
    "        * handshaking\n",
    "            * request/response\n",
    "    * DevTool (Chrome)\n",
    "        * Demo request/response\n",
    "        * Render response\n",
    "        * HTML\n",
    "            * <tag\\>\n",
    "            * DOM\n",
    "            * Delete element\n",
    "            \n",
    "2. "
   ]
  },
  {
   "cell_type": "markdown",
   "metadata": {
    "slideshow": {
     "slide_type": "slide"
    }
   },
   "source": [
    "# 為什麼叫做 Requests"
   ]
  },
  {
   "cell_type": "code",
   "execution_count": null,
   "metadata": {},
   "outputs": [],
   "source": []
  },
  {
   "cell_type": "markdown",
   "metadata": {},
   "source": [
    "## 參考資料\n",
    "* [MDN - HTTP message](https://developer.mozilla.org/en-US/docs/Web/HTTP/Messages)"
   ]
  }
 ],
 "metadata": {
  "celltoolbar": "Slideshow",
  "kernelspec": {
   "display_name": "Python 3",
   "language": "python",
   "name": "python3"
  },
  "language_info": {
   "codemirror_mode": {
    "name": "ipython",
    "version": 3
   },
   "file_extension": ".py",
   "mimetype": "text/x-python",
   "name": "python",
   "nbconvert_exporter": "python",
   "pygments_lexer": "ipython3",
   "version": "3.5.2"
  }
 },
 "nbformat": 4,
 "nbformat_minor": 2
}
