{
 "cells": [
  {
   "cell_type": "markdown",
   "metadata": {
    "slideshow": {
     "slide_type": "slide"
    }
   },
   "source": [
    "# [X-Village] Lesson07 - Requests module\n",
    "by 陳殿善"
   ]
  },
  {
   "cell_type": "markdown",
   "metadata": {
    "slideshow": {
     "slide_type": "subslide"
    }
   },
   "source": [
    "1. 為什麼叫做 Requests\n",
    "    * request/response\n",
    "        * Client/Server\n",
    "        * IP:Port\n",
    "2. HTTP protocol\n",
    "    * URL\n",
    "    * handshaking\n",
    "        * request/response\n",
    "    * HTTP method\n",
    "    * HTTPs\n",
    "3. DevTool (Chrome)\n",
    "    * Demo request/response\n",
    "    * Render response\n",
    "    * HTML\n",
    "        * <tag\\>\n",
    "            * attribute\n",
    "        * DOM\n",
    "        * Delete element           \n",
    "4. back to Requests\n",
    "    * 結合 Requests 與 HTTP method\n",
    "    * 結合 Requests 與 DevTool Network"
   ]
  },
  {
   "cell_type": "markdown",
   "metadata": {
    "slideshow": {
     "slide_type": "slide"
    }
   },
   "source": [
    "# 為什麼叫做 `Requests`\n",
    "* request/response\n",
    "    * Client/Server\n",
    "    * Internet\n",
    "        * IP:Port"
   ]
  },
  {
   "cell_type": "markdown",
   "metadata": {
    "slideshow": {
     "slide_type": "fragment"
    }
   },
   "source": [
    "![request_response](./src/request_response.png)"
   ]
  },
  {
   "cell_type": "markdown",
   "metadata": {
    "slideshow": {
     "slide_type": "slide"
    }
   },
   "source": [
    "# 用什麼星球的語言溝通\n",
    "* HTTP protocol\n",
    "    * URL\n",
    "    * handshaking\n",
    "        * request/response\n",
    "    * HTTP method\n",
    "    * HTTPs"
   ]
  },
  {
   "cell_type": "markdown",
   "metadata": {
    "slideshow": {
     "slide_type": "subslide"
    }
   },
   "source": [
    "## HTTP protocol ([HTTP 協定](https://developer.mozilla.org/en-US/docs/Web/HTTP/Messages))\n",
    "* 測試"
   ]
  },
  {
   "cell_type": "markdown",
   "metadata": {
    "slideshow": {
     "slide_type": "fragment"
    }
   },
   "source": [
    "![http_protocol](./src/http_protocol.png)\n",
    "如同大家在網址上經常看到的"
   ]
  },
  {
   "cell_type": "markdown",
   "metadata": {
    "slideshow": {
     "slide_type": "subslide"
    }
   },
   "source": [
    "## Transmission Control Protocol (TCP) / handshaking\n",
    "![handshaking](./src/handshaking.png)\n",
    "底層傳輸的協定以及用到的方法"
   ]
  },
  {
   "cell_type": "markdown",
   "metadata": {
    "slideshow": {
     "slide_type": "subslide"
    }
   },
   "source": [
    "## HTTPS"
   ]
  },
  {
   "cell_type": "markdown",
   "metadata": {
    "slideshow": {
     "slide_type": "fragment"
    }
   },
   "source": [
    "![http](./src/http_URL.png)\n",
    "[例子](http://www.ltn.com.tw/)\n",
    "\n",
    "\n",
    "---\n",
    "\n",
    "\n",
    "![https](./src/https_URL.png)\n",
    "[例子](https://www.google.com/)"
   ]
  },
  {
   "cell_type": "markdown",
   "metadata": {
    "slideshow": {
     "slide_type": "subslide"
    }
   },
   "source": [
    "### SSL/LTS"
   ]
  },
  {
   "cell_type": "markdown",
   "metadata": {
    "slideshow": {
     "slide_type": "subslide"
    }
   },
   "source": [
    "* 需要這些的原因\n",
    "    * 避免資料被盜取\n",
    "        * [Man-in-the-middle attack](https://www.wikiwand.com/zh-tw/%E4%B8%AD%E9%97%B4%E4%BA%BA%E6%94%BB%E5%87%BB)\n",
    "    * 避免收到不安全的資料"
   ]
  },
  {
   "cell_type": "markdown",
   "metadata": {
    "slideshow": {
     "slide_type": "subslide"
    }
   },
   "source": [
    "## HTTP message"
   ]
  },
  {
   "cell_type": "markdown",
   "metadata": {
    "slideshow": {
     "slide_type": "fragment"
    }
   },
   "source": [
    "* how data is exchanged between a server and a client.\n",
    "![http_message](./src/http_message.png)\n"
   ]
  },
  {
   "cell_type": "markdown",
   "metadata": {
    "slideshow": {
     "slide_type": "subslide"
    }
   },
   "source": [
    "## HTTP message\n",
    "* two types\n",
    "    * requests sent by the client to trigger an action on the server,\n",
    "    * responses, the answer from the server."
   ]
  },
  {
   "cell_type": "markdown",
   "metadata": {
    "slideshow": {
     "slide_type": "subslide"
    }
   },
   "source": [
    "### Request message"
   ]
  },
  {
   "cell_type": "markdown",
   "metadata": {
    "slideshow": {
     "slide_type": "subslide"
    }
   },
   "source": [
    "### Response message"
   ]
  },
  {
   "cell_type": "markdown",
   "metadata": {
    "slideshow": {
     "slide_type": "slide"
    }
   },
   "source": [
    "# DevTool (Chrome)\n",
    "* Demo request/response\n",
    "* Render response\n",
    "* HTML\n",
    "    * <tag\\>\n",
    "        * attribute\n",
    "    * DOM\n",
    "    * Delete element"
   ]
  },
  {
   "cell_type": "markdown",
   "metadata": {
    "slideshow": {
     "slide_type": "slide"
    }
   },
   "source": [
    "# 回到 `Requests`\n",
    "* 結合 Requests 與 HTTP method\n",
    "* 結合 Requests 與 DevTool Network"
   ]
  },
  {
   "cell_type": "markdown",
   "metadata": {
    "slideshow": {
     "slide_type": "slide"
    }
   },
   "source": [
    "## 參考資料\n",
    "* [MDN - HTTP message](https://developer.mozilla.org/en-US/docs/Web/HTTP/Messages)\n",
    "* [MDN - HTTP request methods](https://developer.mozilla.org/en-US/docs/Web/HTTP/Methods)\n",
    "* [TCP / three way handshake](https://notfalse.net/7/three-way-handshake)\n",
    "* [什麼是 SSL、TLS 以及 HTTPS？](https://www.websecurity.symantec.com/zh/tw/security-topics/what-is-ssl-tls-https)"
   ]
  }
 ],
 "metadata": {
  "celltoolbar": "Slideshow",
  "kernelspec": {
   "display_name": "Python 3",
   "language": "python",
   "name": "python3"
  },
  "language_info": {
   "codemirror_mode": {
    "name": "ipython",
    "version": 3
   },
   "file_extension": ".py",
   "mimetype": "text/x-python",
   "name": "python",
   "nbconvert_exporter": "python",
   "pygments_lexer": "ipython3",
   "version": "3.5.2"
  }
 },
 "nbformat": 4,
 "nbformat_minor": 2
}
