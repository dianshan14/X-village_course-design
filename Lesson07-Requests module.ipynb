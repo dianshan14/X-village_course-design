{
 "cells": [
  {
   "cell_type": "markdown",
   "metadata": {
    "slideshow": {
     "slide_type": "slide"
    }
   },
   "source": [
    "# [X-Village] Lesson07 - Requests module\n",
    "by 陳殿善"
   ]
  },
  {
   "cell_type": "markdown",
   "metadata": {
    "slideshow": {
     "slide_type": "subslide"
    }
   },
   "source": [
    "1. 為什麼叫做 Requests\n",
    "    * request/response\n",
    "        * Client/Server\n",
    "        * IP:Port\n",
    "2. HTTP protocol\n",
    "    * URL\n",
    "    * handshaking\n",
    "        * request/response\n",
    "    * HTTP method\n",
    "    * HTTPs\n",
    "3. DevTool (Chrome)\n",
    "    * Demo request/response\n",
    "    * Render response\n",
    "    * HTML\n",
    "        * <tag\\>\n",
    "            * attribute\n",
    "        * DOM\n",
    "        * Delete element           \n",
    "4. back to Requests\n",
    "    * 結合 Requests 與 HTTP method\n",
    "    * 結合 Requests 與 DevTool Network"
   ]
  },
  {
   "cell_type": "markdown",
   "metadata": {
    "slideshow": {
     "slide_type": "slide"
    }
   },
   "source": [
    "# 為什麼叫做 `Requests`\n",
    "* request/response\n",
    "    * Client/Server\n",
    "    * Internet\n",
    "        * IP:Port\n",
    "<br><br>起源"
   ]
  },
  {
   "cell_type": "markdown",
   "metadata": {
    "slideshow": {
     "slide_type": "fragment"
    }
   },
   "source": [
    "![request_response](./src/request_response.png)"
   ]
  },
  {
   "cell_type": "markdown",
   "metadata": {
    "slideshow": {
     "slide_type": "slide"
    }
   },
   "source": [
    "# 用什麼星球的語言溝通\n",
    "* HTTP protocol\n",
    "    * URL\n",
    "    * handshaking\n",
    "        * request/response\n",
    "    * HTTP method\n",
    "    * HTTPs"
   ]
  },
  {
   "cell_type": "markdown",
   "metadata": {
    "slideshow": {
     "slide_type": "subslide"
    }
   },
   "source": [
    "## Hypertext Transfer Protocol ([HTTP 協定](https://developer.mozilla.org/en-US/docs/Web/HTTP/Messages))\n",
    "<br>\n",
    "<center><img src=\"./src/http_protocol.png\" alt=\"http_protocol\"></center>\n",
    "如同大家在網址上經常看到的"
   ]
  },
  {
   "cell_type": "markdown",
   "metadata": {
    "slideshow": {
     "slide_type": "subslide"
    }
   },
   "source": [
    "## Transmission Control Protocol (TCP) / handshaking\n",
    "<center><img alt=\"handshaking\" src=\"./src/handshaking.png\"></center>\n",
    "底層傳輸的協定以及用到的方法\n",
    "疑惑為什麼在傳輸資料的時候資料不會丟失\n",
    "以及如何建立連線避免壞人 (下面的安全性就有關 )"
   ]
  },
  {
   "cell_type": "markdown",
   "metadata": {
    "slideshow": {
     "slide_type": "subslide"
    }
   },
   "source": [
    "## HTTPS\n",
    "* 那我們現在經常看到的 https 跟 http 是否一樣呢?"
   ]
  },
  {
   "cell_type": "markdown",
   "metadata": {
    "slideshow": {
     "slide_type": "fragment"
    }
   },
   "source": [
    "<center><img alt=\"http\" src=\"./src/http_URL.png\" style=\"border: 5px black solid;\"></center>\n",
    "<center><a href=\"http://www.ltn.com.tw/\" style=\"font-size: 16px;\">點我</a></center>\n",
    "\n",
    "\n",
    "---\n",
    "\n",
    "\n",
    "<center><img alt=\"https\" src=\"./src/https_URL.png\" style=\"border:5px black solid;\" width=\"350\"></center>\n",
    "<center><a href=\"https://www.google.com/\" style=\"font-size: 16px;\">點我</a></center>"
   ]
  },
  {
   "cell_type": "markdown",
   "metadata": {
    "slideshow": {
     "slide_type": "subslide"
    }
   },
   "source": [
    "### Secure Sockets Layer (SSL) / Transport Layer Security (TLS)\n",
    "SSL包含記錄層（Record Layer）和傳輸層，記錄層協定確定傳輸層資料的封裝格式。傳輸層安全協議使用X.509認證，之後利用非對稱加密演算來對通訊方做身分認證，之後交換對稱金鑰作為會談金鑰（Session key）。這個會談金鑰是用來將通訊兩方交換的資料做加密，保證兩個應用間通訊的保密性和可靠性，使客戶與伺服器應用之間的通訊不被攻擊者竊聽。"
   ]
  },
  {
   "cell_type": "markdown",
   "metadata": {
    "slideshow": {
     "slide_type": "subslide"
    }
   },
   "source": [
    "* 需要這些的原因\n",
    "    * 避免資料被盜取\n",
    "        * [Man-in-the-middle attack](https://www.wikiwand.com/zh-tw/%E4%B8%AD%E9%97%B4%E4%BA%BA%E6%94%BB%E5%87%BB)\n",
    "    * 避免收到不安全的資料"
   ]
  },
  {
   "cell_type": "markdown",
   "metadata": {
    "slideshow": {
     "slide_type": "slide"
    }
   },
   "source": [
    "## HTTP message (HTTP 訊息)\n",
    "* how data is exchanged between a server and a client"
   ]
  },
  {
   "cell_type": "markdown",
   "metadata": {
    "slideshow": {
     "slide_type": "subslide"
    }
   },
   "source": [
    "## HTTP message\n",
    "* two types\n",
    "    * requests sent by the client to trigger an action on the server,\n",
    "    * responses, the answer from the server."
   ]
  },
  {
   "cell_type": "markdown",
   "metadata": {
    "slideshow": {
     "slide_type": "subslide"
    }
   },
   "source": [
    "## HTTP 訊息格式\n",
    "<center><img alt=\"http_message\" src=\"./src/http_message.png\"></center>"
   ]
  },
  {
   "cell_type": "markdown",
   "metadata": {
    "slideshow": {
     "slide_type": "subslide"
    }
   },
   "source": [
    "<center><img src=\"./src/request_response_message.png\" alt=\"request_response_message\"></center>\n",
    "\n",
    "用這個格式溝通，就不用使用一堆語言跟一堆不同國家的人溝通"
   ]
  },
  {
   "cell_type": "markdown",
   "metadata": {
    "slideshow": {
     "slide_type": "subslide"
    }
   },
   "source": [
    "## `請求` 訊息\n",
    "<center><img alt=\"http_message\" src=\"./src/http_message.png\"></center>"
   ]
  },
  {
   "cell_type": "markdown",
   "metadata": {
    "slideshow": {
     "slide_type": "subslide"
    }
   },
   "source": [
    "## `請求` 訊息 : Start line (起始行)\n",
    "<center><img alt=\"request-startline\" src=\"./src/request_startline.png\"></center>"
   ]
  },
  {
   "cell_type": "markdown",
   "metadata": {
    "slideshow": {
     "slide_type": "subslide"
    }
   },
   "source": [
    "## HTTP 方法\n",
    "* <mark style=\"font-size:40px; font-weight: bold;\">GET</mark>\n",
    "* <mark style=\"font-size:40px; font-weight: bold;\">POST</mark>\n",
    "* DELETE\n",
    "* PUT\n",
    "* HEAD\n",
    "* CONNECT \n",
    "* OPTIONS\n",
    "* TRACE \n",
    "* PATCH \n",
    "\n",
    "[參考連結(英)](https://developer.mozilla.org/en-US/docs/Web/HTTP/Methods)\n",
    "[參考連結(中)](https://developer.mozilla.org/zh-TW/docs/Web/HTTP/Methods)"
   ]
  },
  {
   "cell_type": "markdown",
   "metadata": {
    "slideshow": {
     "slide_type": "subslide"
    }
   },
   "source": [
    "## HTTP 方法 : GET\n",
    "* GET : 請求指定資源"
   ]
  },
  {
   "cell_type": "markdown",
   "metadata": {
    "slideshow": {
     "slide_type": "fragment"
    }
   },
   "source": [
    "<center><img alt=\"get_method\" src=\"./src/get_method.png\" width=\"400px\" height=\"auto\"></center>"
   ]
  },
  {
   "cell_type": "markdown",
   "metadata": {
    "slideshow": {
     "slide_type": "subslide"
    }
   },
   "source": [
    "## HTTP 方法 : POST\n",
    "* POST : 用於提交指定資源的實體，通常會改變伺服器的狀態或副作用\n",
    "\n",
    "POST 改變狀態，下次只要登入，因為伺服端已經有你的資訊了，不用再次註冊"
   ]
  },
  {
   "cell_type": "markdown",
   "metadata": {
    "slideshow": {
     "slide_type": "fragment"
    }
   },
   "source": [
    "<center><img alt=\"post_method\" src=\"./src/post_method.png\" width=\"400px\" height=\"auto\"></center>"
   ]
  },
  {
   "cell_type": "markdown",
   "metadata": {
    "slideshow": {
     "slide_type": "subslide"
    }
   },
   "source": [
    "## `請求` 訊息的真實例子\n",
    "![request](./src/request_.png)\n",
    "\n",
    "[圖片來源](https://developer.mozilla.org/en-US/docs/Web/HTTP/Messages)"
   ]
  },
  {
   "cell_type": "markdown",
   "metadata": {
    "slideshow": {
     "slide_type": "subslide"
    }
   },
   "source": [
    "## `回應` 訊息\n",
    "<center><img alt=\"http_message\" src=\"./src/http_message_response.png\"></center>\n",
    "\n",
    "\n",
    "[圖片來源](https://developer.mozilla.org/en-US/docs/Web/HTTP/Messages)"
   ]
  },
  {
   "cell_type": "markdown",
   "metadata": {
    "slideshow": {
     "slide_type": "subslide"
    }
   },
   "source": [
    "## `回應` 訊息 : Start line (起始行)\n",
    "<center><img alt=\"request-startline\" src=\"./src/response_startline.png\"></center>"
   ]
  },
  {
   "cell_type": "markdown",
   "metadata": {
    "slideshow": {
     "slide_type": "subslide"
    }
   },
   "source": [
    "## 狀態碼 (status code)\n"
   ]
  },
  {
   "cell_type": "markdown",
   "metadata": {
    "slideshow": {
     "slide_type": "subslide"
    }
   },
   "source": [
    "<center><img src=\"./src/404.png\" width=\"70%\" height=\"70%\"></center>"
   ]
  },
  {
   "cell_type": "markdown",
   "metadata": {
    "slideshow": {
     "slide_type": "subslide"
    }
   },
   "source": [
    "<center><img src=\"./src/404_highlight.png\" width=\"70%\" height=\"70%\"></center>"
   ]
  },
  {
   "cell_type": "markdown",
   "metadata": {
    "slideshow": {
     "slide_type": "subslide"
    }
   },
   "source": [
    "## 狀態碼 (Status code)\n",
    "* **1xx** &#160;  訊息 \n",
    "* **2xx** &#160;  成功 \n",
    "* **3xx** &#160;  重新導向 \n",
    "* **4xx** &#160;  請求錯誤 \n",
    "* **5xx** &#160;  伺服器錯誤 \n",
    "\n",
    "— 請求已被伺服端接收 <br>\n",
    "— 請求已成功被伺服器接收、理解、並接受 <br>\n",
    "— 需要後續操作才能完成這一請求 <br>\n",
    "— 請求含有詞法錯誤或者無法被執行 <br>\n",
    "— 伺服器在處理某個正確請求時發生錯誤 <br>"
   ]
  },
  {
   "cell_type": "markdown",
   "metadata": {
    "slideshow": {
     "slide_type": "subslide"
    }
   },
   "source": [
    "## 狀態碼例子\n",
    "* `200 OK` : 請求成功 <br>\n",
    "* `404 Not Found` : 找不到請求的資源\n",
    "* `405 Method Not Allowed`: 伺服端理解的 HTTP Method,但它被禁用或不可被使用"
   ]
  },
  {
   "cell_type": "markdown",
   "metadata": {
    "slideshow": {
     "slide_type": "subslide"
    }
   },
   "source": [
    "## `回應` 訊息的現實例子\n",
    "![response](./src/response_.png)\n",
    "\n",
    "有些 header 與 request 的欄位名字相同，有些則為 response 才有的，例如: eTag : 某個資源的版本\n",
    "\n",
    "[圖片來源](https://developer.mozilla.org/en-US/docs/Web/HTTP/Messages)"
   ]
  },
  {
   "cell_type": "markdown",
   "metadata": {
    "slideshow": {
     "slide_type": "subslide"
    }
   },
   "source": [
    "# 把`請求`訊息 與 `回應`訊息放在一起看\n",
    "## `請求`訊息\n",
    "<img src=\"./src/request_.png\" alter=\"request\" width=\"600px\" height=\"300px\">\n",
    "<hr>\n",
    "## `回應`訊息\n",
    "<img src=\"./src/response_.png\" alter=\"request\" width=\"600px\" height=\"300px\">\n",
    "\n",
    "header 使用 key:value 的形式組成"
   ]
  },
  {
   "cell_type": "markdown",
   "metadata": {
    "slideshow": {
     "slide_type": "slide"
    }
   },
   "source": [
    "# 開發者工具 (DevTool)  \n",
    "* 請使用 Google Chrome 瀏覽器\n",
    "<br>\n",
    "* Demo request/response\n",
    "* Render response\n",
    "* HTML\n",
    "    * <tag\\>\n",
    "        * attribute\n",
    "    * DOM\n",
    "    * Delete element\n",
    "<br>\n",
    "[參考連結](https://developers.google.com/web/tools/chrome-devtools/?hl=zh-tw#_2)"
   ]
  },
  {
   "cell_type": "markdown",
   "metadata": {
    "slideshow": {
     "slide_type": "subslide"
    }
   },
   "source": [
    "### 如何打開開發者工具\n",
    "* 在 Google Chrome 瀏覽器下對網頁點右鍵->檢查"
   ]
  },
  {
   "cell_type": "markdown",
   "metadata": {
    "slideshow": {
     "slide_type": "fragment"
    }
   },
   "source": [
    "會出現\n",
    "![devtool](./src/devtool.png)"
   ]
  },
  {
   "cell_type": "markdown",
   "metadata": {
    "slideshow": {
     "slide_type": "subslide"
    }
   },
   "source": [
    "### 查看 `Elements` (元素)\n",
    "[提醒是簡單概念介紹，不會去寫這個]"
   ]
  },
  {
   "cell_type": "markdown",
   "metadata": {
    "slideshow": {
     "slide_type": "fragment"
    }
   },
   "source": [
    "## HyperText Markup Language (HTML) / HTML tag(標籤)\n",
    "###  開始標籤 +  結束標籤 = HTML 的基本組成單位\n",
    "![devtool_html](./src/devtool_html.png)"
   ]
  },
  {
   "cell_type": "markdown",
   "metadata": {
    "slideshow": {
     "slide_type": "subslide"
    }
   },
   "source": [
    "## HTML 文件的典型架構\n",
    "```html\n",
    "<!DOCTYPE html>\n",
    "<html>\n",
    "    \n",
    "  <head>\n",
    "    <!-- Document metadata -->\n",
    "  </head>\n",
    "    \n",
    "  <body>\n",
    "    <!-- Document content -->\n",
    "  </body>\n",
    "    \n",
    "</html>\n",
    "```"
   ]
  },
  {
   "cell_type": "markdown",
   "metadata": {
    "slideshow": {
     "slide_type": "subslide"
    }
   },
   "source": [
    "## HTML 文件的典型架構\n",
    "<center><img alt=\"html_basic_structure\" src=\"./src/html_basic_structure.png\" width=\"300\" height=\"auto\"></center>"
   ]
  },
  {
   "cell_type": "markdown",
   "metadata": {
    "slideshow": {
     "slide_type": "subslide"
    }
   },
   "source": [
    "## HTML 標籤介紹"
   ]
  },
  {
   "cell_type": "markdown",
   "metadata": {
    "slideshow": {
     "slide_type": "subslide"
    }
   },
   "source": [
    "## `<html>  ...  </html>`\n",
    "* 告訴瀏覽器這是一個 HTML 文件\n",
    "* 所有其他 HTML tag 都放在 `<html> ... </html>` 這裡面"
   ]
  },
  {
   "cell_type": "markdown",
   "metadata": {
    "slideshow": {
     "slide_type": "subslide"
    }
   },
   "source": [
    "## `<head> ... </head>`\n",
    "* 提供 HTML 文件一般性的資訊\n",
    "    * 例如: 關鍵字、描述 ...\n",
    "* 不會渲染在瀏覽器裡面"
   ]
  },
  {
   "cell_type": "markdown",
   "metadata": {
    "slideshow": {
     "slide_type": "subslide"
    }
   },
   "source": [
    "## `<body>  ...  </body>`\n",
    "* 放網頁會顯示的內容\n",
    "    * 文字、圖片、連結 ..."
   ]
  },
  {
   "cell_type": "markdown",
   "metadata": {
    "slideshow": {
     "slide_type": "subslide"
    }
   },
   "source": [
    "## `<h1>  ...  </h1>`\n",
    "# h1 tag"
   ]
  },
  {
   "cell_type": "markdown",
   "metadata": {
    "slideshow": {
     "slide_type": "fragment"
    }
   },
   "source": [
    "## `<h2>  ...  </h2>`\n",
    "## h2 tag"
   ]
  },
  {
   "cell_type": "markdown",
   "metadata": {
    "slideshow": {
     "slide_type": "fragment"
    }
   },
   "source": [
    "## `<h3>  ...  </h3>`\n",
    "### h3 tag"
   ]
  },
  {
   "cell_type": "markdown",
   "metadata": {
    "slideshow": {
     "slide_type": "subslide"
    }
   },
   "source": [
    "## `<h4>  ...  </h4>`\n",
    "#### h4 tag"
   ]
  },
  {
   "cell_type": "markdown",
   "metadata": {
    "slideshow": {
     "slide_type": "fragment"
    }
   },
   "source": [
    "## `<h5>  ...  </h5>`\n",
    "##### h5 tag"
   ]
  },
  {
   "cell_type": "markdown",
   "metadata": {
    "slideshow": {
     "slide_type": "fragment"
    }
   },
   "source": [
    "\n",
    "## `<h6>  ...  </h6>`\n",
    "###### h6 tag"
   ]
  },
  {
   "cell_type": "markdown",
   "metadata": {
    "slideshow": {
     "slide_type": "subslide"
    }
   },
   "source": [
    "## 把 `<h1> ~ <h6>` 放在一起看\n",
    "<center><img alt=\"h_tag\" src=\"./src/h_tag.png\"></center>"
   ]
  },
  {
   "cell_type": "markdown",
   "metadata": {
    "slideshow": {
     "slide_type": "subslide"
    }
   },
   "source": [
    "## `<a>  ...  </a>`\n",
    "<center><a href=\"#\">a tag 是 anchor，用來產生一個 URL 的連結</a></center>"
   ]
  },
  {
   "cell_type": "markdown",
   "metadata": {
    "slideshow": {
     "slide_type": "fragment"
    }
   },
   "source": [
    "## `<img>  ...  </img>`\n",
    "<center><img alt=\"puppy\" src=\"./src/puppy.jpg\" width=\"200\" height=\"auto\"></center>"
   ]
  },
  {
   "cell_type": "markdown",
   "metadata": {
    "slideshow": {
     "slide_type": "subslide"
    }
   },
   "source": [
    "## `<p>  ...  </p>`\n",
    "<center><p align=\"center\">p 標籤是文字段落 (paragraph)</p></center>"
   ]
  },
  {
   "cell_type": "markdown",
   "metadata": {
    "slideshow": {
     "slide_type": "fragment"
    }
   },
   "source": [
    "## `<span>  ...  </span>`\n",
    "<center><p>span 是用來改變<span style=\"color:blue\">文字的顏色</span></p></center>\n",
    "<center><p>上面的是<span style=\"color:blue;\">藍色</span> 這裡的是 <span style=\"color: red;\">紅色</span></p></center>"
   ]
  },
  {
   "cell_type": "markdown",
   "metadata": {
    "slideshow": {
     "slide_type": "subslide"
    }
   },
   "source": [
    "## `<ul>  ...  </ul>` (unorderd list)"
   ]
  },
  {
   "cell_type": "markdown",
   "metadata": {
    "slideshow": {
     "slide_type": "fragment"
    }
   },
   "source": [
    "## `<li>  ...  </li>`\n",
    "<ul>\n",
    "    <li>第一個 list item</li>\n",
    "    <li>第二個 list item</li>\n",
    "    <li>第三個 list item</li>\n",
    "</ul>"
   ]
  },
  {
   "cell_type": "markdown",
   "metadata": {
    "slideshow": {
     "slide_type": "subslide"
    }
   },
   "source": [
    "## `<ol>  ...  </ol>` (ordered list)"
   ]
  },
  {
   "cell_type": "markdown",
   "metadata": {
    "slideshow": {
     "slide_type": "fragment"
    }
   },
   "source": [
    "## `<li>  ...  </li>`\n",
    "<ol>\n",
    "    <li>第一個 list item</li>\n",
    "    <li>第二個 list item</li>\n",
    "    <li>第三個 list item</li>\n",
    "</ol>"
   ]
  },
  {
   "cell_type": "markdown",
   "metadata": {
    "slideshow": {
     "slide_type": "subslide"
    }
   },
   "source": [
    "## `<div>  ...  </div>` (division)\n",
    "* 經常被當作其他 HTML tag 的容器，可以同時對這裡面的 HTML tag 修改樣式以及改變架構"
   ]
  },
  {
   "cell_type": "markdown",
   "metadata": {
    "slideshow": {
     "slide_type": "subslide"
    }
   },
   "source": [
    "## HTML 標籤的屬性\n",
    "<center><img alt=\"devtool_html\" src=\"./src/devtool_attribute.png\"></center>"
   ]
  },
  {
   "cell_type": "markdown",
   "metadata": {
    "slideshow": {
     "slide_type": "subslide"
    }
   },
   "source": [
    "## HTML 標籤的屬性\n",
    "* 賦予某個 HTML 標籤額外的資訊\n",
    "* 必須放在**開始標籤**內\n",
    "* 所有屬性都由 `名字=值` 組成  (`name=value`)"
   ]
  },
  {
   "cell_type": "markdown",
   "metadata": {
    "slideshow": {
     "slide_type": "subslide"
    }
   },
   "source": [
    "## `lang` (language, 語言)\n",
    "* 指定 HTML 標籤裡的內容所使用的語言"
   ]
  },
  {
   "cell_type": "markdown",
   "metadata": {
    "slideshow": {
     "slide_type": "subslide"
    }
   },
   "source": [
    "## `id` (identifier, 識別符)\n",
    "* 給 HTML 標籤一個 **獨一無二** 的識別符\n",
    "* 常被用來讓 CSS 對 **某個 HTML 標籤** 進行樣式修改\n",
    "* 也可以被當作 JavaScript 進行操作時所選擇的**唯一對象**"
   ]
  },
  {
   "cell_type": "markdown",
   "metadata": {
    "slideshow": {
     "slide_type": "subslide"
    }
   },
   "source": [
    "## `class` (分類)\n",
    "* 指定 **一個或多個** 分類的名稱給 HTML 標籤\n",
    "* 常被用來讓 CSS 對 **某個分類** 進行樣式修改\n",
    "* 也可以被當作 JavaScript 進行操作時**所選擇的分類**"
   ]
  },
  {
   "cell_type": "markdown",
   "metadata": {
    "slideshow": {
     "slide_type": "subslide"
    }
   },
   "source": [
    "## `style` (樣式)\n",
    "* 用來指定 HTML 標籤的樣式\n",
    "    * 例如: <p style=\"font-weight: bold; color: blue;\">這是藍色且是使用粗體的文字</p>"
   ]
  },
  {
   "cell_type": "markdown",
   "metadata": {
    "slideshow": {
     "slide_type": "subslide"
    }
   },
   "source": [
    "## 練習\n",
    "* <p style=\"color: green;\">把這些文字改成黃色</p>"
   ]
  },
  {
   "cell_type": "markdown",
   "metadata": {
    "slideshow": {
     "slide_type": "subslide"
    }
   },
   "source": [
    "## `href` (hypertext reference)\n",
    "* 用來指定點擊超連結會前往的網址\n",
    "* 最常被使用在 `a` 標籤\n",
    "    * 例如: <a href=\"https://hackmd.io/c/ByMeYR1mm/https%3A%2F%2Fdocs.google.com%2Fforms%2Fd%2Fe%2F1FAIpQLSeIYlGHLJoQQyrMkXZ2TIz1tbDMlbdo9b1TeEMumu5V3h4mlg%2Fviewform\">點我前往課程教材</a>"
   ]
  },
  {
   "cell_type": "markdown",
   "metadata": {
    "slideshow": {
     "slide_type": "subslide"
    }
   },
   "source": [
    "## 練習\n",
    "* 把 <a href=\"#\">這個連結</a> 的超連結網址改成課程教材的網址，並點它看看\n"
   ]
  },
  {
   "cell_type": "markdown",
   "metadata": {
    "slideshow": {
     "slide_type": "subslide"
    }
   },
   "source": [
    "## `src` (source, 來源)\n",
    "* 用來指定資源的位置\n",
    "    * 例如: 照片 (用在 `img` 標籤)"
   ]
  },
  {
   "cell_type": "markdown",
   "metadata": {
    "slideshow": {
     "slide_type": "subslide"
    }
   },
   "source": [
    "## 練習\n",
    "嘗試把這張狗的照片來源改成 https://tvax1.sinaimg.cn/crop.8.0.1109.1109.180/006WRyWGly8fnagesvr6jj30v90utdhe.jpg\n",
    "<br>請問你看到什麼品種的狗？\n",
    "<center><img alt=\"puppy\" src=\"./src/puppy.jpg\" width=\"200\" height=\"auto\"></center>"
   ]
  },
  {
   "cell_type": "markdown",
   "metadata": {
    "slideshow": {
     "slide_type": "subslide"
    }
   },
   "source": [
    "## 練習 (3 mins)\n",
    "請問 [這個網頁](https://e652424342007.github.io/X-village_course-design/)中最大的字 \"Requests 模組練習頁面\"\n",
    "1. 是使用什麼 HTML 標籤？\n",
    "2. 有幾個屬性？\n",
    "3. 每個屬性的值是什麼？\n"
   ]
  },
  {
   "cell_type": "markdown",
   "metadata": {
    "slideshow": {
     "slide_type": "subslide"
    }
   },
   "source": [
    "### 查看 `Network` (網路)"
   ]
  },
  {
   "cell_type": "markdown",
   "metadata": {
    "slideshow": {
     "slide_type": "subslide"
    }
   },
   "source": [
    "## 跟著我操作\n",
    "1. 在開發者工具裡面點 `Network`\n",
    "2. 按鍵盤組合鍵 `Ctrl+F5`"
   ]
  },
  {
   "cell_type": "markdown",
   "metadata": {
    "slideshow": {
     "slide_type": "subslide"
    }
   },
   "source": [
    "![stream](./src/devtool_network_stream.png)"
   ]
  },
  {
   "cell_type": "markdown",
   "metadata": {
    "slideshow": {
     "slide_type": "subslide"
    }
   },
   "source": [
    "![stream](./src/devtool_network_header.png)"
   ]
  },
  {
   "cell_type": "markdown",
   "metadata": {
    "slideshow": {
     "slide_type": "slide"
    }
   },
   "source": [
    "# 回到 `Requests`\n",
    "* 結合 Requests 與 HTTP method\n",
    "* 結合 Requests 與 DevTool Network"
   ]
  },
  {
   "cell_type": "markdown",
   "metadata": {
    "slideshow": {
     "slide_type": "slide"
    }
   },
   "source": [
    "## 參考資料\n",
    "* [MDN - HTTP message](https://developer.mozilla.org/en-US/docs/Web/HTTP/Messages)\n",
    "* [MDN - HTTP request methods](https://developer.mozilla.org/en-US/docs/Web/HTTP/Methods)\n",
    "* [TCP / three way handshake](https://notfalse.net/7/three-way-handshake)\n",
    "* [什麼是 SSL、TLS 以及 HTTPS？](https://www.websecurity.symantec.com/zh/tw/security-topics/what-is-ssl-tls-https)\n",
    "* [MDN - HTTP Response status code](https://developer.mozilla.org/zh-TW/docs/Web/HTTP/Status)"
   ]
  }
 ],
 "metadata": {
  "celltoolbar": "Slideshow",
  "kernelspec": {
   "display_name": "Python 3",
   "language": "python",
   "name": "python3"
  },
  "language_info": {
   "codemirror_mode": {
    "name": "ipython",
    "version": 3
   },
   "file_extension": ".py",
   "mimetype": "text/x-python",
   "name": "python",
   "nbconvert_exporter": "python",
   "pygments_lexer": "ipython3",
   "version": "3.5.2"
  }
 },
 "nbformat": 4,
 "nbformat_minor": 2
}
