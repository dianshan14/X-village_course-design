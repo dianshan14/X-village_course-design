{
 "cells": [
  {
   "cell_type": "markdown",
   "metadata": {
    "slideshow": {
     "slide_type": "slide"
    }
   },
   "source": [
    "# [X-Village] Lesson07 - Requests 模組\n",
    "## by 陳殿善"
   ]
  },
  {
   "cell_type": "markdown",
   "metadata": {
    "slideshow": {
     "slide_type": "subslide"
    }
   },
   "source": [
    "## 使用 <span style=\"background-color: #cfdff9\">pip</span> 安裝 \"requests 模組\" (可以裝在虛擬環境中)\n",
    "<span style=\"background-color: #cfdff9\">pip install requests</span>"
   ]
  },
  {
   "cell_type": "markdown",
   "metadata": {
    "slideshow": {
     "slide_type": "subslide"
    }
   },
   "source": [
    "## 測試安裝是否成功"
   ]
  },
  {
   "cell_type": "code",
   "execution_count": 1,
   "metadata": {
    "slideshow": {
     "slide_type": "fragment"
    }
   },
   "outputs": [
    {
     "name": "stdout",
     "output_type": "stream",
     "text": [
      "2.19.1\n"
     ]
    }
   ],
   "source": [
    "import requests\n",
    "print(requests.__version__)"
   ]
  },
  {
   "cell_type": "markdown",
   "metadata": {
    "slideshow": {
     "slide_type": "subslide"
    }
   },
   "source": [
    "## 安裝成功之後，試試看以下的程式碼吧"
   ]
  },
  {
   "cell_type": "code",
   "execution_count": null,
   "metadata": {
    "slideshow": {
     "slide_type": "fragment"
    }
   },
   "outputs": [],
   "source": [
    "import requests\n",
    "\n",
    "url = 'https://cloud.culture.tw/frontsite/trans/SearchShowAction.do?method=doFindTypeJ&category=5'\n",
    "response = requests.get(url)\n",
    "\n",
    "print(response.text)"
   ]
  },
  {
   "cell_type": "markdown",
   "metadata": {
    "slideshow": {
     "slide_type": "subslide"
    }
   },
   "source": [
    "## 雖然有東西轟炸了你的螢幕，但這些內容有沒有讓你想起什麼？"
   ]
  },
  {
   "cell_type": "markdown",
   "metadata": {
    "slideshow": {
     "slide_type": "subslide"
    }
   },
   "source": [
    "### 或許是想起這個\n",
    "![open_data](./src/open_data_page.png)"
   ]
  },
  {
   "cell_type": "markdown",
   "metadata": {
    "slideshow": {
     "slide_type": "subslide"
    }
   },
   "source": [
    "## 或是這個？\n",
    "![open_data_practice](./src/open_data_practice.png)"
   ]
  },
  {
   "cell_type": "markdown",
   "metadata": {
    "slideshow": {
     "slide_type": "fragment"
    }
   },
   "source": [
    "[就是前面的課程拉~](http://nbviewer.jupyter.org/format/slides/github/x-village/python-course/blob/master/Lesson05-Exception%20Handling/Lesson05-File.ipynb#/7)"
   ]
  },
  {
   "cell_type": "markdown",
   "metadata": {
    "slideshow": {
     "slide_type": "subslide"
    }
   },
   "source": [
    "## 沒錯！你不用用滑鼠去點下載了！"
   ]
  },
  {
   "cell_type": "markdown",
   "metadata": {
    "slideshow": {
     "slide_type": "fragment"
    }
   },
   "source": [
    "## 你可以寫 Python 和用 \"requests 模組\" 來下載一些資料了！"
   ]
  },
  {
   "cell_type": "markdown",
   "metadata": {
    "slideshow": {
     "slide_type": "fragment"
    }
   },
   "source": [
    "## 然後呢？還有嗎？"
   ]
  },
  {
   "cell_type": "markdown",
   "metadata": {
    "slideshow": {
     "slide_type": "subslide"
    }
   },
   "source": [
    "## 先點進<a href=\"https://e652424342007.github.io/X-village_course-design/\" target=\"_blank\">這個網頁</a>，然後試試下面的程式碼！"
   ]
  },
  {
   "cell_type": "code",
   "execution_count": null,
   "metadata": {
    "slideshow": {
     "slide_type": "fragment"
    }
   },
   "outputs": [],
   "source": [
    "import requests\n",
    "\n",
    "url = 'https://e652424342007.github.io/X-village_course-design/'\n",
    "response = requests.get(url)\n",
    "\n",
    "print(response.text)"
   ]
  },
  {
   "cell_type": "markdown",
   "metadata": {
    "slideshow": {
     "slide_type": "fragment"
    }
   },
   "source": [
    "現在不知道這些程式碼在做什麼沒關係，後面會講解"
   ]
  },
  {
   "cell_type": "markdown",
   "metadata": {
    "slideshow": {
     "slide_type": "subslide"
    }
   },
   "source": [
    "## 我看到了一堆 \"<\" 和 \">\"，然後呢？？？"
   ]
  },
  {
   "cell_type": "code",
   "execution_count": 2,
   "metadata": {
    "slideshow": {
     "slide_type": "subslide"
    }
   },
   "outputs": [
    {
     "name": "stdout",
     "output_type": "stream",
     "text": [
      "<!DOCTYPE html>\n",
      "<html lang=\"zh-TW\">\n",
      "<head>\n",
      "\t<title>X-Village Requests</title>\n",
      "</head>\n",
      "\n",
      "<body>\n",
      "  <div>\n",
      "    <div style=\"text-align:center; font-size: 70px;\">\n",
      "      <h1 id=\"page-title\" class=\"header1\">Requests 模組練習頁面</h1>\n",
      "      <h6 id=\"page-introduction\">\n",
      "\t\tLesson07 Python Requests 模組 demo\n",
      "\t\t<br>\n",
      "\t\t<br>\n",
      "\t\t<a href=\"https://hackmd.io/c/ByMeYR1mm/https%3A%2F%2Fdocs.google.com%2Fforms%2Fd%2Fe%2F1FAIpQLSeIYlGHLJoQQyrMkXZ2TIz1tbDMlbdo9b1TeEMumu5V3h4mlg%2Fviewform\">X-Village Python 課程</a>\n",
      "      </h6>\n",
      "    </div>\n",
      "\t<div>\n",
      "\t\t<center>\n",
      "\t\t\t<img alt=\"puppy\" src=\"./src/puppy.jpg\" width=\"400\" height=\"auto\">\n",
      "\t\t</center>\n",
      "\t</div>\n",
      "    <div class=\"text-center text-blue\">\n",
      "\t\t<div id=\"changed\" style=\"font-size: 14px;\">我是一些文字，顯示在網頁的最下面</div>\n",
      "    </div>\n",
      "  </div>\n",
      "  \n",
      "  <style>\n",
      "\t.text-center {\n",
      "\t\ttext-align: center;\n",
      "\t}\n",
      "\n",
      "\t.text-blue {\n",
      "\t\tcolor: blue;\n",
      "\t}\n",
      "\n",
      "\t.text-blue:hover {\n",
      "\t\tcolor: red;\n",
      "\t}\n",
      "\n",
      "\t/*#page-title {\n",
      "\t\tmargin-top: 80px;\n",
      "\t\tmargin-bottom: 0px;\n",
      "\t}*/\n",
      "\n",
      "\t#page-introduction {\n",
      "\t\tmargin-top: 40px;\n",
      "\t\tmargin-bottom: 40px;\n",
      "\t}\n",
      "\n",
      "\t#bigger, #smaller, #changed {\n",
      "\t\theight: 300px;\n",
      "\t}\n",
      "\n",
      "\t#bigger {\n",
      "\t\tflex: 0 0 40%;\n",
      "\t}\n",
      "\t#changed {\n",
      "\t\tflex: 1 0 20%;\n",
      "\t}\n",
      "\t#smaller {\n",
      "\t\tflex: 0 0 40%;\n",
      "\t}\n",
      "  </style>\n",
      "</body></html>\n",
      "\n"
     ]
    }
   ],
   "source": [
    "import requests\n",
    "\n",
    "url = 'https://e652424342007.github.io/X-village_course-design/'\n",
    "response = requests.get(url)\n",
    "\n",
    "print(response.text)"
   ]
  },
  {
   "cell_type": "markdown",
   "metadata": {
    "slideshow": {
     "slide_type": "subslide"
    }
   },
   "source": [
    "## 我好像把在網頁瀏覽器上面看到的抓下來了 "
   ]
  },
  {
   "cell_type": "markdown",
   "metadata": {
    "slideshow": {
     "slide_type": "fragment"
    }
   },
   "source": [
    "## 你有聽過 <span style=\"color: blue;\">網頁爬蟲</span> 嗎"
   ]
  },
  {
   "cell_type": "markdown",
   "metadata": {
    "slideshow": {
     "slide_type": "fragment"
    }
   },
   "source": [
    "## 簡單來說就是把從網頁上看得到的東西，用程式把它抓下來，而不是透過瀏覽器"
   ]
  },
  {
   "cell_type": "markdown",
   "metadata": {
    "slideshow": {
     "slide_type": "subslide"
    }
   },
   "source": [
    "## 那抓下來可以做什麼？"
   ]
  },
  {
   "cell_type": "markdown",
   "metadata": {
    "slideshow": {
     "slide_type": "subslide"
    }
   },
   "source": [
    "## 情境: 假如你的夢想是去日本，你需要在最適合的時間把台幣換日幣！\n",
    "<center><img alt=\"japan\" src=\"./src/japan.png\"></center>"
   ]
  },
  {
   "cell_type": "markdown",
   "metadata": {
    "slideshow": {
     "slide_type": "subslide"
    }
   },
   "source": [
    "## 你要一直<span style=\"color: red;\">用手</span>刷新匯率的網站，然後看看什麼時候適合買日幣？\n",
    "<center><img alt=\"money\" src=\"./src/cr1.png\" width=\"800\" height=\"auto\"></center>\n",
    "[資料來源](https://rate.bot.com.tw/xrt/quote/day/JPY)"
   ]
  },
  {
   "cell_type": "markdown",
   "metadata": {
    "slideshow": {
     "slide_type": "subslide"
    }
   },
   "source": [
    "## 還是寫程式來自動抓資料，在日幣到達一定匯率時自動提醒你？\n",
    "<center><img alt=\"money\" src=\"./src/cr3.png\" width=\"800\" height=\"auto\"></center>"
   ]
  },
  {
   "cell_type": "markdown",
   "metadata": {
    "slideshow": {
     "slide_type": "subslide"
    }
   },
   "source": [
    "## 甚至還可以自己用程式畫匯率趨勢圖，用來做你想要的分析！\n",
    "<center><img src=\"./src/visualize_rate.png\" alt=\"rate\"></center>"
   ]
  },
  {
   "cell_type": "markdown",
   "metadata": {
    "slideshow": {
     "slide_type": "subslide"
    }
   },
   "source": [
    "## \"requests 模組\" 除了可以讓你下載資料，也是網頁爬蟲的第一步！"
   ]
  },
  {
   "cell_type": "markdown",
   "metadata": {
    "slideshow": {
     "slide_type": "slide"
    }
   },
   "source": [
    "## 大綱\n",
    "1. 為什麼叫做 Requests\n",
    "2. HTTP protocol\n",
    "3. DevTool (Chrome)\n",
    "4. back to Requests\n",
    "    * 結合 Requests 與 HTTP method\n",
    "    * 結合 Requests 與 DevTool Network"
   ]
  },
  {
   "cell_type": "markdown",
   "metadata": {
    "slideshow": {
     "slide_type": "slide"
    }
   },
   "source": [
    "# 為什麼叫做 \"requests 模組\""
   ]
  },
  {
   "cell_type": "markdown",
   "metadata": {
    "slideshow": {
     "slide_type": "fragment"
    }
   },
   "source": [
    "<center><img alt=\"[request_response\" src=\"./src/request_response.png\"></center>\n",
    "請記住這張圖~~~"
   ]
  },
  {
   "cell_type": "markdown",
   "metadata": {
    "slideshow": {
     "slide_type": "slide"
    }
   },
   "source": [
    "# 用戶端 與 伺服端 用什麼訊息做溝通？\n",
    "<center><img alt=\"question\" src=\"./src/what_message.png\"></center>"
   ]
  },
  {
   "cell_type": "markdown",
   "metadata": {
    "slideshow": {
     "slide_type": "subslide"
    }
   },
   "source": [
    "## Hypertext Transfer Protocol ([HTTP 協定](https://developer.mozilla.org/en-US/docs/Web/HTTP))\n",
    "<br>\n",
    "<center><img src=\"./src/http_protocol.png\" alt=\"http_protocol\"></center>"
   ]
  },
  {
   "cell_type": "markdown",
   "metadata": {
    "slideshow": {
     "slide_type": "subslide"
    }
   },
   "source": [
    "## [補充]那我們現在經常看到的 HTTPS 跟 HTTP 是否一樣呢?"
   ]
  },
  {
   "cell_type": "markdown",
   "metadata": {
    "slideshow": {
     "slide_type": "fragment"
    }
   },
   "source": [
    "<center><img alt=\"http\" src=\"./src/http_URL.png\" style=\"border: 5px black solid;\"></center>\n",
    "<center><a href=\"http://www.ltn.com.tw/\" style=\"font-size: 16px;\">點我</a></center>\n",
    "\n",
    "---\n",
    "\n",
    "<center><img alt=\"https\" src=\"./src/https_URL.png\" style=\"border:5px black solid;\" width=\"350\"></center>\n",
    "<center><a href=\"https://www.google.com/\" style=\"font-size: 16px;\">點我</a></center>"
   ]
  },
  {
   "cell_type": "markdown",
   "metadata": {
    "slideshow": {
     "slide_type": "subslide"
    }
   },
   "source": [
    "## 使用 HTTPS 比 HTTP 還安全 ！"
   ]
  },
  {
   "cell_type": "markdown",
   "metadata": {
    "slideshow": {
     "slide_type": "fragment"
    }
   },
   "source": [
    "### [補充] Secure Sockets Layer (SSL) / Transport Layer Security (TLS)\n",
    "* 兩個協定\n",
    "* SSL 為 TLS 的前身\n",
    "* 對通訊的對象進行身份驗證\n",
    "* 對通訊的內容進行加密"
   ]
  },
  {
   "cell_type": "markdown",
   "metadata": {
    "slideshow": {
     "slide_type": "slide"
    }
   },
   "source": [
    "## HTTP message (HTTP 訊息)\n",
    "* 兩種類型\n",
    "    * 請求訊息: 從用戶端傳送到伺服端，用來觸發伺服端一個動作\n",
    "    * 回應訊息: 伺服端對於用戶端的回應"
   ]
  },
  {
   "cell_type": "markdown",
   "metadata": {
    "slideshow": {
     "slide_type": "subslide"
    }
   },
   "source": [
    "## HTTP 訊息 (前一頁的文字跟前面提到的圖一樣)\n",
    "<center><img alt=\"request_response\" src=\"./src/request_response.png\"></center>"
   ]
  },
  {
   "cell_type": "markdown",
   "metadata": {
    "slideshow": {
     "slide_type": "fragment"
    }
   },
   "source": [
    "接下來的東西不用現在記下來，先有個概念就好"
   ]
  },
  {
   "cell_type": "markdown",
   "metadata": {
    "slideshow": {
     "slide_type": "subslide"
    }
   },
   "source": [
    "## HTTP 訊息格式\n",
    "<center><img alt=\"http_message\" src=\"./src/http_message.png\"></center>"
   ]
  },
  {
   "cell_type": "markdown",
   "metadata": {
    "slideshow": {
     "slide_type": "subslide"
    }
   },
   "source": [
    "## 兩種 HTTP 訊息都用相同格式，但內容會不同(這裡用顏色做區分)\n",
    "<center><img src=\"./src/request_response_message.png\" alt=\"request_response_message\"></center>"
   ]
  },
  {
   "cell_type": "markdown",
   "metadata": {
    "slideshow": {
     "slide_type": "subslide"
    }
   },
   "source": [
    "## 介紹 <span style=\"color: green\">請求</span> 訊息\n",
    "<center><img alt=\"http_message.png\" src=\"./src/http_message.png\"></center>"
   ]
  },
  {
   "cell_type": "markdown",
   "metadata": {
    "slideshow": {
     "slide_type": "subslide"
    }
   },
   "source": [
    "## <span style=\"color: green\">請求</span> 訊息內的起始行\n",
    "<center><img alt=\"request-startline\" src=\"./src/request_startline.png\"></center>"
   ]
  },
  {
   "cell_type": "markdown",
   "metadata": {
    "slideshow": {
     "slide_type": "subslide"
    }
   },
   "source": [
    "## <span style=\"color: green\">請求</span> 訊息內的起始行: HTTP 方法\n",
    "* <mark style=\"font-size:40px; font-weight: bold; background-color: lightgreen\">GET</mark>\n",
    "* <mark style=\"font-size:40px; font-weight: bold; background-color: lightgreen\">POST</mark>\n",
    "* DELETE\n",
    "* PUT\n",
    "* HEAD\n",
    "* CONNECT \n",
    "* OPTIONS\n",
    "* TRACE \n",
    "* PATCH \n",
    "\n",
    "[參考連結(英)](https://developer.mozilla.org/en-US/docs/Web/HTTP/Methods)\n",
    "[參考連結(中)](https://developer.mozilla.org/zh-TW/docs/Web/HTTP/Methods)"
   ]
  },
  {
   "cell_type": "markdown",
   "metadata": {
    "slideshow": {
     "slide_type": "subslide"
    }
   },
   "source": [
    "## HTTP 方法 : GET\n",
    "* GET : 請求指定資源\n",
    "* 會被使用的時機 : 瀏覽大部分的網頁時 ..."
   ]
  },
  {
   "cell_type": "markdown",
   "metadata": {
    "slideshow": {
     "slide_type": "subslide"
    }
   },
   "source": [
    "## HTTP 方法 : POST\n",
    "* POST : 用於提交內容\n",
    "* 會被使用的時機 : 註冊帳號 ..."
   ]
  },
  {
   "cell_type": "markdown",
   "metadata": {
    "slideshow": {
     "slide_type": "subslide"
    }
   },
   "source": [
    "##  \"requests 模組\" 練習 (不計分) : 結合 \"requests 模組\" 與 HTTP 方法\n",
    "```python\n",
    "import requests\n",
    "\n",
    "# these six method must have one argument: url\n",
    "requests.get()\n",
    "requests.post()\n",
    "requests.put()\n",
    "requests.delete()\n",
    "requests.head()\n",
    "requests.patch()\n",
    "```"
   ]
  },
  {
   "cell_type": "markdown",
   "metadata": {
    "slideshow": {
     "slide_type": "subslide"
    }
   },
   "source": [
    "## 介紹 <span style=\"color: blue\">回應</span> 訊息\n",
    "<center><img alt=\"response_msg\" src=\"./src/http_message_response.png\"></center>"
   ]
  },
  {
   "cell_type": "markdown",
   "metadata": {
    "slideshow": {
     "slide_type": "subslide"
    }
   },
   "source": [
    "## <span style=\"color: blue\">回應</span> 訊息內的起始行\n",
    "<center><img alt=\"request-startline\" src=\"./src/response_startline.png\"></center>"
   ]
  },
  {
   "cell_type": "markdown",
   "metadata": {
    "slideshow": {
     "slide_type": "subslide"
    }
   },
   "source": [
    "## 狀態碼 (status code)\n"
   ]
  },
  {
   "cell_type": "markdown",
   "metadata": {
    "slideshow": {
     "slide_type": "subslide"
    }
   },
   "source": [
    "## 狀態碼 (Status code)\n",
    "* **1xx** &#160;  訊息 — 請求已被伺服器端接收 \n",
    "* **2xx** &#160;  成功 — 請求已成功被伺服器端理解、並接受 \n",
    "* **3xx** &#160;  重新導向 — 需要後續操作才能完成這一請求 \n",
    "* **4xx** &#160;  請求錯誤 — 請求含有語法錯誤或者無法被執行 \n",
    "* **5xx** &#160;  伺服器錯誤 — 伺服器在處理某個正確請求時發生錯誤 (不知道如何處理、HTTP版本不對) "
   ]
  },
  {
   "cell_type": "markdown",
   "metadata": {
    "slideshow": {
     "slide_type": "subslide"
    }
   },
   "source": [
    "## 狀態碼例子\n",
    "* `200 OK` : 請求成功 <br>\n",
    "* `404 Not Found` : 找不到請求的資源\n",
    "* `405 Method Not Allowed`: 伺服端理解的 HTTP 方法,但它被禁用或不可被使用"
   ]
  },
  {
   "cell_type": "markdown",
   "metadata": {
    "slideshow": {
     "slide_type": "subslide"
    }
   },
   "source": [
    "<center><img src=\"./src/404.png\" width=\"700\" height=\"70%\"></center>"
   ]
  },
  {
   "cell_type": "markdown",
   "metadata": {
    "slideshow": {
     "slide_type": "subslide"
    }
   },
   "source": [
    "<center><img src=\"./src/404_highlight.png\" width=\"700\" height=\"70%\"></center>"
   ]
  },
  {
   "cell_type": "markdown",
   "metadata": {
    "slideshow": {
     "slide_type": "subslide"
    }
   },
   "source": [
    "##  \"requests 模組\" 練習 (不計分) : 結合 \"requests 模組\" 與 回應訊息(包含狀態碼與描述)"
   ]
  },
  {
   "cell_type": "code",
   "execution_count": 8,
   "metadata": {
    "slideshow": {
     "slide_type": "fragment"
    }
   },
   "outputs": [
    {
     "name": "stdout",
     "output_type": "stream",
     "text": [
      "<class 'requests.models.Response'>\n",
      "----------------------------------------\n",
      "status code:  200\n",
      "----------------------------------------\n",
      "description:  OK\n"
     ]
    }
   ],
   "source": [
    "import requests\n",
    "\n",
    "url = 'https://e652424342007.github.io/X-village_course-design/'\n",
    "\n",
    "# 'response' is response object (it can be regared as response message)\n",
    "response = requests.get(url)\n",
    "print(type(response))\n",
    "\n",
    "print('-'*40)\n",
    "# get status code\n",
    "print('status code: ', response.status_code)\n",
    "print('-'*40)\n",
    "# get description\n",
    "print('description: ', response.reason)"
   ]
  },
  {
   "cell_type": "markdown",
   "metadata": {
    "slideshow": {
     "slide_type": "fragment"
    }
   },
   "source": [
    "[requests.models.Response 參考資源](https://github.com/requests/requests/tree/master/requests)"
   ]
  },
  {
   "cell_type": "markdown",
   "metadata": {
    "slideshow": {
     "slide_type": "subslide"
    }
   },
   "source": [
    "## \"requests 模組\" 練習 (不計分) : 使用 \"requests 模組\" 送出的請求訊息所得到的回應訊息中，得到請求訊息的詳細資訊"
   ]
  },
  {
   "cell_type": "code",
   "execution_count": 9,
   "metadata": {},
   "outputs": [
    {
     "name": "stdout",
     "output_type": "stream",
     "text": [
      "Requests message URL: https://e652424342007.github.io/X-village_course-design/\n",
      "--------------------------------------------------\n",
      "Requests message Method: GET\n",
      "--------------------------------------------------\n",
      "Requests message headers: {'Accept-Encoding': 'gzip, deflate', 'User-Agent': 'python-requests/2.19.1', 'Connection': 'keep-alive', 'Accept': '*/*'}\n",
      "--------------------------------------------------\n",
      "Requests message body: None\n"
     ]
    }
   ],
   "source": [
    "import requests\n",
    "\n",
    "url = 'https://e652424342007.github.io/X-village_course-design/'\n",
    "response = requests.get(url)\n",
    "\n",
    "# get status code\n",
    "print('Requests message URL:', response.request.url)\n",
    "print('-'*50)\n",
    "print('Requests message Method:', response.request.method)\n",
    "print('-'*50)\n",
    "print('Requests message headers:', response.request.headers)\n",
    "print('-'*50)\n",
    "print('Requests message body:', response.request.body)"
   ]
  },
  {
   "cell_type": "markdown",
   "metadata": {
    "slideshow": {
     "slide_type": "subslide"
    }
   },
   "source": [
    "## \"requests 模組\" 練習 (不計分) : 得到回應訊息的訊息主題"
   ]
  },
  {
   "cell_type": "code",
   "execution_count": 10,
   "metadata": {
    "slideshow": {
     "slide_type": "fragment"
    }
   },
   "outputs": [
    {
     "name": "stdout",
     "output_type": "stream",
     "text": [
      "<!DOCTYPE html>\n",
      "<html lang=\"zh-TW\">\n",
      "<head>\n",
      "\t<title>X-Village Requests</title>\n",
      "</head>\n",
      "\n",
      "<body>\n",
      "  <div>\n",
      "    <div style=\"text-align:center; font-size: 70px;\">\n",
      "      <h1 id=\"page-title\" class=\"header1\">Requests 模組練習頁面</h1>\n",
      "      <h6 id=\"page-introduction\">\n",
      "\t\tLesson07 Python Requests 模組 demo\n",
      "\t\t<br>\n",
      "\t\t<br>\n",
      "\t\t<a href=\"https://hackmd.io/c/ByMeYR1mm/https%3A%2F%2Fdocs.google.com%2Fforms%2Fd%2Fe%2F1FAIpQLSeIYlGHLJoQQyrMkXZ2TIz1tbDMlbdo9b1TeEMumu5V3h4mlg%2Fviewform\">X-Village Python 課程</a>\n",
      "      </h6>\n",
      "    </div>\n",
      "\t<div>\n",
      "\t\t<center>\n",
      "\t\t\t<img alt=\"puppy\" src=\"./src/puppy.jpg\" width=\"400\" height=\"auto\">\n",
      "\t\t</center>\n",
      "\t</div>\n",
      "    <div class=\"text-center text-blue\">\n",
      "\t\t<div id=\"changed\" style=\"font-size: 14px;\">我是一些文字，顯示在網頁的最下面</div>\n",
      "    </div>\n",
      "  </div>\n",
      "  \n",
      "  <style>\n",
      "\t.text-center {\n",
      "\t\ttext-align: center;\n",
      "\t}\n",
      "\n",
      "\t.text-blue {\n",
      "\t\tcolor: blue;\n",
      "\t}\n",
      "\n",
      "\t.text-blue:hover {\n",
      "\t\tcolor: red;\n",
      "\t}\n",
      "\n",
      "\t/*#page-title {\n",
      "\t\tmargin-top: 80px;\n",
      "\t\tmargin-bottom: 0px;\n",
      "\t}*/\n",
      "\n",
      "\t#page-introduction {\n",
      "\t\tmargin-top: 40px;\n",
      "\t\tmargin-bottom: 40px;\n",
      "\t}\n",
      "\n",
      "\t#bigger, #smaller, #changed {\n",
      "\t\theight: 300px;\n",
      "\t}\n",
      "\n",
      "\t#bigger {\n",
      "\t\tflex: 0 0 40%;\n",
      "\t}\n",
      "\t#changed {\n",
      "\t\tflex: 1 0 20%;\n",
      "\t}\n",
      "\t#smaller {\n",
      "\t\tflex: 0 0 40%;\n",
      "\t}\n",
      "  </style>\n",
      "</body></html>\n",
      "\n"
     ]
    }
   ],
   "source": [
    "print(response.text)"
   ]
  },
  {
   "cell_type": "markdown",
   "metadata": {
    "slideshow": {
     "slide_type": "subslide"
    }
   },
   "source": [
    "## 介紹完 <span style=\"color: green;\">請求</span> 和 <span style=\"color: blue;\">回應</span> 訊息了，再複習一次這個循環\n",
    "<center><img src=\"./src/request_response_startline.png\" alt=\"request_response_startline\"></center>\n",
    "\n"
   ]
  },
  {
   "cell_type": "markdown",
   "metadata": {
    "slideshow": {
     "slide_type": "subslide"
    }
   },
   "source": [
    "# 休息 5 ~ 10 分鐘"
   ]
  },
  {
   "cell_type": "markdown",
   "metadata": {
    "slideshow": {
     "slide_type": "slide"
    }
   },
   "source": [
    "# 網頁開發者工具 (DevTool)  \n",
    "\n",
    "[參考連結](https://developers.google.com/web/tools/chrome-devtools/?hl=zh-tw#_2)"
   ]
  },
  {
   "cell_type": "markdown",
   "metadata": {
    "slideshow": {
     "slide_type": "subslide"
    }
   },
   "source": [
    "## 打開這個<a href=\"https://e652424342007.github.io/X-village_course-design/\" target=\"_blank\">網頁</a>"
   ]
  },
  {
   "cell_type": "markdown",
   "metadata": {
    "slideshow": {
     "slide_type": "subslide"
    }
   },
   "source": [
    "### 如何打開開發者工具\n",
    "* 在 Google Chrome 瀏覽器下對網頁點右鍵->檢查"
   ]
  },
  {
   "cell_type": "markdown",
   "metadata": {
    "slideshow": {
     "slide_type": "fragment"
    }
   },
   "source": [
    "會出現\n",
    "![devtool](./src/devtool.png)"
   ]
  },
  {
   "cell_type": "markdown",
   "metadata": {
    "slideshow": {
     "slide_type": "subslide"
    }
   },
   "source": [
    "## 什麼是網頁開發者工具？\n",
    "* 可幫助網頁開發者快速診斷錯誤的工具\n",
    "* 可以用來修改任何網頁的內容進行測試"
   ]
  },
  {
   "cell_type": "markdown",
   "metadata": {
    "slideshow": {
     "slide_type": "subslide"
    }
   },
   "source": [
    "## 趣味遊戲: 點進下面這個網站 並在十秒內把所有視窗關掉\n",
    "http://fczbkk.com/current-state-of-webdesign/ <br>\n"
   ]
  },
  {
   "cell_type": "markdown",
   "metadata": {
    "slideshow": {
     "slide_type": "subslide"
    }
   },
   "source": [
    "### 查看 \"Elements\" (元素)"
   ]
  },
  {
   "cell_type": "markdown",
   "metadata": {
    "slideshow": {
     "slide_type": "fragment"
    }
   },
   "source": [
    "## HyperText Markup Language (HTML) 與 HTML tag(標籤)"
   ]
  },
  {
   "cell_type": "markdown",
   "metadata": {
    "slideshow": {
     "slide_type": "fragment"
    }
   },
   "source": [
    "###  開始標籤 +  結束標籤 = HTML 文件的基本組成單位\n",
    "<center><img alt=\"devtool_html\" src=\"./src/devtool_html.png\"></center>"
   ]
  },
  {
   "cell_type": "markdown",
   "metadata": {
    "slideshow": {
     "slide_type": "subslide"
    }
   },
   "source": [
    "## 開始標籤 與 結束標籤 之間可以放其他內容\n",
    "* 例如: HTML 標籤、文字 ...\n",
    "<center><img alt=\"devtool_html\" src=\"./src/html_content.png\" width=\"400px\" height=\"auto\"></center>"
   ]
  },
  {
   "cell_type": "markdown",
   "metadata": {
    "slideshow": {
     "slide_type": "subslide"
    }
   },
   "source": [
    "## HTML 標籤的屬性\n",
    "<center><img alt=\"devtool_html\" src=\"./src/devtool_attribute.png\"></center>"
   ]
  },
  {
   "cell_type": "markdown",
   "metadata": {
    "slideshow": {
     "slide_type": "subslide"
    }
   },
   "source": [
    "## HTML 標籤的屬性\n",
    "* 賦予某個 HTML 標籤額外的資訊\n",
    "* 必須放在**開始標籤**內\n",
    "* 所有屬性都由 `名字=值` 組成  (`name=value`)"
   ]
  },
  {
   "cell_type": "markdown",
   "metadata": {
    "slideshow": {
     "slide_type": "subslide"
    }
   },
   "source": [
    "## HTML 文件的典型架構\n",
    "```html\n",
    "<!DOCTYPE html>\n",
    "<html>\n",
    "  <head>\n",
    "    <!-- Document metadata -->\n",
    "  </head>\n",
    "    \n",
    "  <body>\n",
    "    <!-- Document content -->\n",
    "  </body>\n",
    "</html>\n",
    "```"
   ]
  },
  {
   "cell_type": "markdown",
   "metadata": {
    "slideshow": {
     "slide_type": "subslide"
    }
   },
   "source": [
    "## HTML 文件的典型架構\n",
    "<center><img alt=\"html_basic_structure\" src=\"./src/html_basic_structure.png\" width=\"300\" height=\"auto\"></center>"
   ]
  },
  {
   "cell_type": "markdown",
   "metadata": {
    "slideshow": {
     "slide_type": "subslide"
    }
   },
   "source": [
    "## HTML 標籤介紹"
   ]
  },
  {
   "cell_type": "markdown",
   "metadata": {
    "slideshow": {
     "slide_type": "subslide"
    }
   },
   "source": [
    "### `<html>  ...  </html>`\n",
    "* 告訴瀏覽器這是一個 HTML 文件\n",
    "* 所有其他 HTML 標籤 都放在 `<html> ... </html>` 這裡面"
   ]
  },
  {
   "cell_type": "markdown",
   "metadata": {
    "slideshow": {
     "slide_type": "fragment"
    }
   },
   "source": [
    "### `<head> ... </head>`\n",
    "* 提供 HTML 文件一般性的資訊\n",
    "    * 例如: 給搜尋引擎關鍵字、網頁的描述 ...\n",
    "* 不會顯示在瀏覽器裡面"
   ]
  },
  {
   "cell_type": "markdown",
   "metadata": {
    "slideshow": {
     "slide_type": "fragment"
    }
   },
   "source": [
    "### `<body>  ...  </body>`\n",
    "* 放網頁會顯示的內容\n",
    "    * 文字、圖片、連結 ..."
   ]
  },
  {
   "cell_type": "markdown",
   "metadata": {
    "slideshow": {
     "slide_type": "subslide"
    }
   },
   "source": [
    "## `<h1>  ...  </h1>`  (heading)\n",
    "```html\n",
    "<h1>h1 tag</h1>\n",
    "```\n"
   ]
  },
  {
   "cell_type": "markdown",
   "metadata": {
    "slideshow": {
     "slide_type": "fragment"
    }
   },
   "source": [
    "瀏覽器解讀:  <h1>h1 tag</h1>"
   ]
  },
  {
   "cell_type": "markdown",
   "metadata": {
    "slideshow": {
     "slide_type": "subslide"
    }
   },
   "source": [
    "## `<h2>  ...  </h2>`\n",
    "```html\n",
    "<h2>h2 tag</h2>\n",
    "```"
   ]
  },
  {
   "cell_type": "markdown",
   "metadata": {
    "slideshow": {
     "slide_type": "fragment"
    }
   },
   "source": [
    "瀏覽器解讀:\n",
    "<h2>h2 tag</h2>"
   ]
  },
  {
   "cell_type": "markdown",
   "metadata": {
    "slideshow": {
     "slide_type": "subslide"
    }
   },
   "source": [
    "## 把 `<h1> ~ <h6>` 放在一起看\n",
    "<center><img alt=\"h_tag\" src=\"./src/h_tag.png\"></center>"
   ]
  },
  {
   "cell_type": "markdown",
   "metadata": {
    "slideshow": {
     "slide_type": "subslide"
    }
   },
   "source": [
    "## `<a>  ...  </a>` (經常跟 \"href\" 屬性一起使用)\n",
    "```html\n",
    "<a href=\"https://google.com\">a tag 是 anchor，用來產生一個網址的超連結</a>\n",
    "```"
   ]
  },
  {
   "cell_type": "markdown",
   "metadata": {
    "slideshow": {
     "slide_type": "fragment"
    }
   },
   "source": [
    "瀏覽器解讀:<br>\n",
    "<a href=\"https://google.com\">a tag 是 anchor，用來產生一個網址的超連結</a>"
   ]
  },
  {
   "cell_type": "markdown",
   "metadata": {
    "slideshow": {
     "slide_type": "subslide"
    }
   },
   "source": [
    "## `<img>  ...  </img>` (image)  (經常跟 \"src\" 屬性一起使用)\n",
    "```html\n",
    "<img alt=\"puppy\" src=\"./src/puppy.jpg\" width=\"200\" height=\"auto\">\n",
    "```"
   ]
  },
  {
   "cell_type": "markdown",
   "metadata": {
    "slideshow": {
     "slide_type": "fragment"
    }
   },
   "source": [
    "瀏覽器解讀:\n",
    "\n",
    "<img alt=\"puppy\" src=\"./src/puppy.jpg\" width=\"200\" height=\"auto\">"
   ]
  },
  {
   "cell_type": "markdown",
   "metadata": {
    "slideshow": {
     "slide_type": "subslide"
    }
   },
   "source": [
    "## `<p>  ...  </p>`\n",
    "```html\n",
    "<p>p 標籤是段落文字 (paragraph)</p>\n",
    "```"
   ]
  },
  {
   "cell_type": "markdown",
   "metadata": {
    "slideshow": {
     "slide_type": "fragment"
    }
   },
   "source": [
    "瀏覽器解讀:\n",
    "<p>p 標籤是段落文字 (paragraph)</p>"
   ]
  },
  {
   "cell_type": "markdown",
   "metadata": {
    "slideshow": {
     "slide_type": "subslide"
    }
   },
   "source": [
    "## `<div>  ...  </div>` (division)\n",
    "* 經常被當作其他 HTML 標籤 的容器\n",
    "* 想成網頁上一塊一塊的部份\n",
    "```html\n",
    "<div>使用 div 來把文字分區塊</div>\n",
    "<div>這裡是第二個區塊，<a href=\"https://google.com\">而這裡是 Google 連結</a></div>\n",
    "```"
   ]
  },
  {
   "cell_type": "markdown",
   "metadata": {
    "slideshow": {
     "slide_type": "fragment"
    }
   },
   "source": [
    "瀏覽器解讀:\n",
    "<div>使用 div 來把文字分區塊</div>\n",
    "<div>這裡是第二個區塊，<a href=\"https://google.com\">而這裡是 Google 連結</a></div>"
   ]
  },
  {
   "cell_type": "markdown",
   "metadata": {
    "slideshow": {
     "slide_type": "subslide"
    }
   },
   "source": [
    "## `<span>  ...  </span>`\n",
    "* 用在較細部的設計 (例如:同一行不同的顏色)\n",
    "* 類似不會換行的 \"div\"\n",
    "```html\n",
    "<div>使用 span 來改變<span style=\"color:blue\">文字的顏色</span></div>\n",
    "<div>上面的是<span style=\"color:blue;\">藍色</span> 這裡的是 <span style=\"color: red;\">紅色</span></div>\n",
    "```"
   ]
  },
  {
   "cell_type": "markdown",
   "metadata": {
    "slideshow": {
     "slide_type": "fragment"
    }
   },
   "source": [
    "瀏覽器解讀: \n",
    "<div>使用 span 來改變<span style=\"color:blue\">文字的顏色</span></div>\n",
    "<div>上面的是<span style=\"color:blue;\">藍色</span> 這裡的是 <span style=\"color: red;\">紅色</span></div>"
   ]
  },
  {
   "cell_type": "markdown",
   "metadata": {
    "slideshow": {
     "slide_type": "subslide"
    }
   },
   "source": [
    "## 把基本的 HTML 標籤介紹完了，接下來要介紹一些上面沒有介紹但也需要知道的屬性"
   ]
  },
  {
   "cell_type": "markdown",
   "metadata": {
    "slideshow": {
     "slide_type": "subslide"
    }
   },
   "source": [
    "## `id` (identifier, 識別符)\n",
    "* 給 HTML 標籤一個 **獨一無二** 的識別符\n",
    "\n",
    "```html\n",
    "<div id=\"selected\">\n",
    "    這是 id 為 selected 的 div 標籤的內部\n",
    "</div>\n",
    "```"
   ]
  },
  {
   "cell_type": "markdown",
   "metadata": {
    "slideshow": {
     "slide_type": "subslide"
    }
   },
   "source": [
    "## `class` (分類)\n",
    "* 指定 **一個或多個** 分類的名稱給 HTML 標籤 \n",
    "    * 有多個`class`的值時，用空白分隔\n",
    "\n",
    "```html\n",
    "<div class=\"bold-text red\">\n",
    "    這是 class 為 bold-text 的 div 標籤的內部\n",
    "</div>\n",
    "```"
   ]
  },
  {
   "cell_type": "markdown",
   "metadata": {
    "slideshow": {
     "slide_type": "subslide"
    }
   },
   "source": [
    "## `style` (樣式)\n",
    "用來指定 HTML 標籤的樣式\n",
    "```html\n",
    "<p style=\"font-weight: bold; color: blue;\">這是藍色且是使用粗體的文字</p>\n",
    "```\n",
    "瀏覽器解讀:\n",
    "<p style=\"font-weight: bold; color: blue;\">這是藍色且是使用粗體的文字</p>"
   ]
  },
  {
   "cell_type": "markdown",
   "metadata": {
    "slideshow": {
     "slide_type": "subslide"
    }
   },
   "source": [
    "## 練習 (不計分)\n",
    "* <p style=\"color: green;\">把這些文字改成紅色</p>"
   ]
  },
  {
   "cell_type": "markdown",
   "metadata": {
    "slideshow": {
     "slide_type": "subslide"
    }
   },
   "source": [
    "## 練習 (不計分)\n",
    "* 把 <a href=\"https://google.com\">這個連結</a> 的超連結網址改成課程教材的網址，並點它看看\n",
    "* 這裡是課程教材網址 https://hackmd.io/c/ByMeYR1mm/https%3A%2F%2Fdocs.google.com%2Fforms%2Fd%2Fe%2F1FAIpQLSeIYlGHLJoQQyrMkXZ2TIz1tbDMlbdo9b1TeEMumu5V3h4mlg%2Fviewform\n"
   ]
  },
  {
   "cell_type": "markdown",
   "metadata": {
    "slideshow": {
     "slide_type": "subslide"
    }
   },
   "source": [
    "## 練習 (不計分)\n",
    "嘗試把這張狗的照片來源改成 https://tvax1.sinaimg.cn/crop.8.0.1109.1109.180/006WRyWGly8fnagesvr6jj30v90utdhe.jpg\n",
    "<br>請問你看到什麼品種的狗？\n",
    "<center><img alt=\"puppy\" src=\"./src/puppy.jpg\" width=\"200\" height=\"auto\"></center>"
   ]
  },
  {
   "cell_type": "markdown",
   "metadata": {
    "slideshow": {
     "slide_type": "subslide"
    }
   },
   "source": [
    "## 練習 (不計分)\n",
    "請問 [Python document (3.7)](https://docs.python.org/3/index.html)中最大的字 \"Python 3.7.0 documentation\"\n",
    "1. 是使用什麼 HTML 標籤？\n",
    "2. 把 1. 的標籤包起來而且是最近的 div 標籤有幾個屬性？\n",
    "3. 每個屬性的值是什麼？\n"
   ]
  },
  {
   "cell_type": "markdown",
   "metadata": {
    "slideshow": {
     "slide_type": "subslide"
    }
   },
   "source": [
    "### 查看 \"Network\" (網路)"
   ]
  },
  {
   "cell_type": "markdown",
   "metadata": {
    "slideshow": {
     "slide_type": "subslide"
    }
   },
   "source": [
    "## 跟著我操作\n",
    "1. 在開發者工具裡面點 `Network`\n",
    "2. 在重新整理的按鍵那裡按右鍵，並選第三個 \"清除快取並強制重新載入\" (務必先打開開發者工具)"
   ]
  },
  {
   "cell_type": "markdown",
   "metadata": {
    "slideshow": {
     "slide_type": "subslide"
    }
   },
   "source": [
    "## 會出現類似下面的畫面\n",
    "![stream](./src/devtool_network_stream.png)"
   ]
  },
  {
   "cell_type": "markdown",
   "metadata": {
    "slideshow": {
     "slide_type": "subslide"
    }
   },
   "source": [
    "## 點開上一頁的任何一個 (先點第一個~) \n",
    "![stream](./src/devtool_network_no_header.png)"
   ]
  },
  {
   "cell_type": "markdown",
   "metadata": {
    "slideshow": {
     "slide_type": "fragment"
    }
   },
   "source": [
    "可以看到剛剛教大家的 HTTP 方法(Method)，以及狀態碼 (Status code)"
   ]
  },
  {
   "cell_type": "markdown",
   "metadata": {
    "slideshow": {
     "slide_type": "slide"
    }
   },
   "source": [
    "# 再複習一次:  \"requests 模組\" 的用途是..."
   ]
  },
  {
   "cell_type": "markdown",
   "metadata": {
    "slideshow": {
     "slide_type": "subslide"
    }
   },
   "source": [
    "<center><img src=\"./src/requests_module.png\" alt=\"requests_module\"></center>"
   ]
  },
  {
   "cell_type": "markdown",
   "metadata": {
    "slideshow": {
     "slide_type": "subslide"
    }
   },
   "source": [
    "## 把剛剛聽到的 \n",
    "* HTTP 方法 (HTTP Method)\n",
    "* 狀態碼 (Status code)\n",
    "* 狀態碼描述 (description)\n",
    "* 標頭 (header)"
   ]
  },
  {
   "cell_type": "markdown",
   "metadata": {
    "slideshow": {
     "slide_type": "fragment"
    }
   },
   "source": [
    "## 跟 \"requests 模組\" 做結合"
   ]
  },
  {
   "cell_type": "markdown",
   "metadata": {
    "slideshow": {
     "slide_type": "subslide"
    }
   },
   "source": [
    "# 回到 \"requests 模組\"\n",
    "* 結合 Requests 與 HTTP method , Status code\n",
    "* 結合 Requests 與 DevTool Network\n",
    "* encoding, text\n",
    "* 下載東西 (記不記得下載的東西是什麼 有印象嗎？) 並寫檔 .json\n",
    "* RE 跟 demo 網頁結合\n",
    "\n",
    "* 查看 request header\n",
    "\n",
    "\n",
    "* url/text/encoding/content/status_code/headers[]/reason (response)\n",
    "* (response.request) body/headers[]/method/url\n",
    "* demo get 沒有 body"
   ]
  },
  {
   "cell_type": "markdown",
   "metadata": {
    "slideshow": {
     "slide_type": "subslide"
    }
   },
   "source": [
    "## 得到回應訊息的訊息主題"
   ]
  },
  {
   "cell_type": "code",
   "execution_count": null,
   "metadata": {
    "slideshow": {
     "slide_type": "fragment"
    }
   },
   "outputs": [],
   "source": [
    "print(response.text)"
   ]
  },
  {
   "cell_type": "markdown",
   "metadata": {
    "slideshow": {
     "slide_type": "subslide"
    }
   },
   "source": [
    "## 練習1 : 處理獨立音樂展演資料 (計分)\n",
    "[資料連結](https://data.gov.tw/dataset/6006)<br>\n",
    "[JSON 資料連結](https://cloud.culture.tw/frontsite/trans/SearchShowAction.do?method=doFindTypeJ&category=5)\n",
    "\n",
    "要求1: 把用 \"requests 模組\" 得到的 JSON 資料寫到 檔案1裡 (檔名為: music_show.json)\n",
    "\n",
    "要求2: 把所有表演的資料裡面的 \n",
    "    1. title(活動名稱)\n",
    "    2. startDate(活動起始日期)\n",
    "    3. endDate(活動結束日期)\n",
    "寫到檔案2裡面 (檔名為: music_show.txt)<br>\n",
    "且每一行格式為 <span style=\"background-color: lightgreen;\">title</span> : <span style=\"background-color: lightgreen;\">startDate</span> ~ <span style=\"background-color: lightgreen;\">endDate</span>"
   ]
  },
  {
   "cell_type": "markdown",
   "metadata": {
    "slideshow": {
     "slide_type": "subslide"
    }
   },
   "source": [
    "## 練習1 (con't) : output\n",
    "在 music_show.txt 中部份的內容:\n",
    "![music_output](./src/music_output.png)"
   ]
  },
  {
   "cell_type": "markdown",
   "metadata": {
    "slideshow": {
     "slide_type": "subslide"
    }
   },
   "source": [
    "## 練習1 (con't) : tip\n",
    "獨立音樂展演資料格式參考 : 一個 JSON 陣列 包著 多個 JSON 物件 \n",
    "<img alt=\"music_data\" src=\"./src/music_data_structure.png\" height=\"400\" width=\"400\">"
   ]
  },
  {
   "cell_type": "markdown",
   "metadata": {
    "slideshow": {
     "slide_type": "subslide"
    }
   },
   "source": [
    "## 練習2 : 簡易爬蟲 "
   ]
  },
  {
   "cell_type": "code",
   "execution_count": null,
   "metadata": {
    "slideshow": {
     "slide_type": "subslide"
    }
   },
   "outputs": [],
   "source": [
    "import requests\n",
    "import re\n",
    "\n",
    "class SimpleCrawler:\n",
    "\n",
    "    def __init__(self):\n",
    "        \"\"\"Construct a SimpleCrawler object\"\"\"\n",
    "        pass\n",
    "        #TODO: self.regex_a = ...\n",
    "\n",
    "    def crawl(self, url):\n",
    "        \"\"\"\n",
    "        Crawl the website with specified url.\n",
    "        If this method is called, it should print \n",
    "            1. request url\n",
    "            2. request method\n",
    "            3. request status code\n",
    "        \"\"\"\n",
    "        pass\n",
    "\n",
    "    def extract_a_tags(self):\n",
    "        \"\"\"Return a list of html a tag\"\"\"\n",
    "        pass\n",
    "    \n",
    "    def extract_img_tags(self):\n",
    "        \"\"\"Return a list of html a tag\"\"\"\n",
    "        pass\n",
    "\n",
    "    def save_links(self, path):\n",
    "        \"\"\"save links in a tags to the file specified with path\"\"\"\n",
    "        pass\n",
    "\n",
    "    def save_srcs(self, path):\n",
    "        \"\"\"save image-srcs in img tags to the file specified with path\"\"\"\n",
    "        pass\n",
    "\n",
    "\n",
    "crawler = SimpleCrawler()\n",
    "crawler.crawl('http://quotes.toscrape.com')\n",
    "links = crawler.extract_a_tags()\n",
    "\n",
    "# Check\n",
    "print(\"Links:\", len(links))\n",
    "print(links)\n",
    "\n",
    "crawler.save_links('links.txt')\n"
   ]
  },
  {
   "cell_type": "markdown",
   "metadata": {
    "slideshow": {
     "slide_type": "subslide"
    }
   },
   "source": [
    "# ---------------------以下為補充內容---------------------"
   ]
  },
  {
   "cell_type": "markdown",
   "metadata": {
    "slideshow": {
     "slide_type": "subslide"
    }
   },
   "source": [
    "## ... 的部份是 header\n",
    "<center><img src=\"./src/http_message.png\"></center>"
   ]
  },
  {
   "cell_type": "markdown",
   "metadata": {
    "slideshow": {
     "slide_type": "subslide"
    }
   },
   "source": [
    "## <span style=\"color: green\">請求</span> 訊息的真實例子\n",
    "![request](./src/request_.png)\n",
    "\n",
    "User-Agent: 被用來識別發出請求訊息的軟體類型、作業系統、軟體開發者<br>\n",
    "Accept: 用戶端可以理解的檔案類型，可以設定優先度<br>\n",
    "Accept-Language: 用戶端可以理解的語言，可以設定優先度\n",
    "\n",
    "<br>\n",
    "Note: header 的顏色只是 header 有不同分類\n",
    "\n",
    "[圖片來源](https://developer.mozilla.org/en-US/docs/Web/HTTP/Messages)"
   ]
  },
  {
   "cell_type": "markdown",
   "metadata": {
    "slideshow": {
     "slide_type": "subslide"
    }
   },
   "source": [
    "## <span style=\"color: blue\">回應</span> 訊息的現實例子\n",
    "![response](./src/response_.png)\n",
    "\n",
    "Content-Type: 訊息主體的檔案類型<br>\n",
    "\n",
    "\n",
    "Note: header 的顏色只是 header 有不同分類\n",
    "\n",
    "\n",
    "[圖片來源](https://developer.mozilla.org/en-US/docs/Web/HTTP/Messages)"
   ]
  },
  {
   "cell_type": "markdown",
   "metadata": {
    "slideshow": {
     "slide_type": "subslide"
    }
   },
   "source": [
    "## 補充練習: 觀察 GET 和 DevTool Network 的東西是否相同？ (請使用 Google Chrome)\n",
    "1. 打開 [requests demo 網頁](https://e652424342007.github.io/X-village_course-design/)\n",
    "2. 在該網頁打開 DevTool，並點到 Network 的部份\n",
    "3. 到重新整理的按鍵那裡點右鍵(在上一頁按鍵的右邊的右邊)，點第三個 \"清除快取並強制重新載入\" (DevTool 務必是打開的)\n",
    "4. 點擊第一個回應\n",
    "5. 查看 `requests 模組` 對這個網頁送出請求後得到的回應，是否都跟 DevTool 的 Network 內容相同？\n",
    "    * URL, method, status code, 請求 header, 回應 header\n",
    "\n",
    "<br>"
   ]
  },
  {
   "cell_type": "markdown",
   "metadata": {
    "slideshow": {
     "slide_type": "subslide"
    }
   },
   "source": [
    "## [進階] 我想要自己設定 header，不想要交給 \"reqeusts 模組\"，可以嗎？"
   ]
  },
  {
   "cell_type": "markdown",
   "metadata": {
    "slideshow": {
     "slide_type": "fragment"
    }
   },
   "source": [
    "可以，請洽 \"requests 模組\" [官方 document](http://docs.python-requests.org/en/master/)"
   ]
  },
  {
   "cell_type": "markdown",
   "metadata": {
    "slideshow": {
     "slide_type": "subslide"
    }
   },
   "source": [
    "## 進階練習1 : 客製化 <span style=\"color: green;\">請求</span>訊息的 header\n",
    "1. 到 `Requests` 官方 [document](http://docs.python-requests.org/en/master/user/quickstart/) 或 使用 Google\n",
    "2. 尋找如何客製化 <span style=\"color: green;\">請求</span>訊息的 header\n",
    "3. 把 `user-agent` 這個欄位設定成 `X-Village/Python-course/7-18`\n",
    "4. 根據第 3 步驟的 header 對 `https://e652424342007.github.io/X-village_course-design/` 這個網址發出 <span style=\"color: green;\">請求</span>訊息\n",
    "5. 得到 <span style=\"color: blue\">回應</span>訊息之後，印出你所送出的 <span style=\"color: green;\">請求</span>訊息的 header，並查看 `user-agent` 是否為 `X-Village/Python-course/7-18`\n"
   ]
  },
  {
   "cell_type": "markdown",
   "metadata": {
    "slideshow": {
     "slide_type": "subslide"
    }
   },
   "source": [
    "## 進階練習2 : 客製化 請求訊息的 header\n",
    "1. 先對 `https://developer.mozilla.org/docs/Web/HTML` 發出 請求訊息\n",
    "2. 把 回應訊息 的內容寫到檔名為 `index.html` 的檔案裡\n",
    "3. 用瀏覽器打開這個檔案 (可以嘗試點兩下這個檔案 或是 把這個檔案用滑鼠拖到瀏覽器裡面)\n",
    "4. 查看內容，是否為全英文的內容？"
   ]
  },
  {
   "cell_type": "markdown",
   "metadata": {
    "slideshow": {
     "slide_type": "subslide"
    }
   },
   "source": [
    "## 進階練習2 : 客製化 請求訊息的 header (con't)\n",
    "5. 把 請求訊息 header 中的 `Accept-Language` 設定成 `zh-TW,zh;q=0.9,en-US;q=0.8,en;q=0.7`\n",
    "6. 根據上一步驟的 header，再次向 `https://developer.mozilla.org/docs/Web/HTML` 送出請求訊息\n",
    "7. 把 回應訊息 的內容寫到檔名為 `index_tw.html` 的檔案裡\n",
    "8. 用瀏覽器打開這個檔案 (可以嘗試點兩下這個檔案 或是 把這個檔案用滑鼠拖到瀏覽器裡面)\n",
    "9. 查看內容，是否內容變成中文了？\n",
    "\n",
    "### 思考看看為什麼？"
   ]
  },
  {
   "cell_type": "markdown",
   "metadata": {
    "slideshow": {
     "slide_type": "slide"
    }
   },
   "source": [
    "## 參考資料\n",
    "* [MDN - HTTP message](https://developer.mozilla.org/en-US/docs/Web/HTTP/Messages)\n",
    "* [MDN - HTTP request methods](https://developer.mozilla.org/en-US/docs/Web/HTTP/Methods)\n",
    "* [TCP / three way handshake](https://notfalse.net/7/three-way-handshake)\n",
    "* [什麼是 SSL、TLS 以及 HTTPS？](https://www.websecurity.symantec.com/zh/tw/security-topics/what-is-ssl-tls-https)\n",
    "* [MDN - HTTP Response status code](https://developer.mozilla.org/zh-TW/docs/Web/HTTP/Status)\n",
    "* [htmlreference.io - HTML](https://htmlreference.io/element/span/)"
   ]
  },
  {
   "cell_type": "code",
   "execution_count": null,
   "metadata": {},
   "outputs": [],
   "source": [
    "import requests\n",
    "import pprint\n",
    "response = requests.get('https://cloud.culture.tw/frontsite/trans/SearchShowAction.do?method=doFindTypeJ&category=5')\n",
    "pprint.pprint(response.text)"
   ]
  }
 ],
 "metadata": {
  "celltoolbar": "Slideshow",
  "kernelspec": {
   "display_name": "Python 3",
   "language": "python",
   "name": "python3"
  },
  "language_info": {
   "codemirror_mode": {
    "name": "ipython",
    "version": 3
   },
   "file_extension": ".py",
   "mimetype": "text/x-python",
   "name": "python",
   "nbconvert_exporter": "python",
   "pygments_lexer": "ipython3",
   "version": "3.5.2"
  }
 },
 "nbformat": 4,
 "nbformat_minor": 2
}
