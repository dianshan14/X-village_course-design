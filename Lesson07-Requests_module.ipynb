{
 "cells": [
  {
   "cell_type": "markdown",
   "metadata": {
    "slideshow": {
     "slide_type": "slide"
    }
   },
   "source": [
    "# [X-Village] Lesson07 - Requests 模組\n",
    "by 陳殿善"
   ]
  },
  {
   "cell_type": "markdown",
   "metadata": {
    "slideshow": {
     "slide_type": "subslide"
    }
   },
   "source": [
    "## 使用 `pip` 安裝 `Requests` 模組 (可以裝在虛擬環境中)\n",
    "`pip install requests`"
   ]
  },
  {
   "cell_type": "markdown",
   "metadata": {
    "slideshow": {
     "slide_type": "subslide"
    }
   },
   "source": [
    "## 測試安裝是否成功"
   ]
  },
  {
   "cell_type": "code",
   "execution_count": null,
   "metadata": {
    "slideshow": {
     "slide_type": "fragment"
    }
   },
   "outputs": [],
   "source": [
    "import requests\n",
    "print(requests.__version__)"
   ]
  },
  {
   "cell_type": "markdown",
   "metadata": {
    "slideshow": {
     "slide_type": "subslide"
    }
   },
   "source": [
    "## 安裝成功之後，試試看以下的程式碼吧"
   ]
  },
  {
   "cell_type": "code",
   "execution_count": null,
   "metadata": {
    "slideshow": {
     "slide_type": "fragment"
    }
   },
   "outputs": [],
   "source": [
    "import requests\n",
    "\n",
    "url = 'https://cloud.culture.tw/frontsite/trans/SearchShowAction.do?method=doFindTypeJ&category=5'\n",
    "response = requests.get(url)\n",
    "\n",
    "print(response.text)"
   ]
  },
  {
   "cell_type": "markdown",
   "metadata": {
    "slideshow": {
     "slide_type": "subslide"
    }
   },
   "source": [
    "## 雖然有東西轟炸了你的螢幕，但這些內容有沒有讓你想起什麼？"
   ]
  },
  {
   "cell_type": "markdown",
   "metadata": {
    "slideshow": {
     "slide_type": "subslide"
    }
   },
   "source": [
    "### 或許是想起這個\n",
    "![open_data](./src/open_data_page.png)"
   ]
  },
  {
   "cell_type": "markdown",
   "metadata": {
    "slideshow": {
     "slide_type": "subslide"
    }
   },
   "source": [
    "## 或是這個？\n",
    "![open_data_practice](./src/open_data_practice.png)"
   ]
  },
  {
   "cell_type": "markdown",
   "metadata": {
    "slideshow": {
     "slide_type": "subslide"
    }
   },
   "source": [
    "## 沒錯！你不用用滑鼠去點下載了！"
   ]
  },
  {
   "cell_type": "markdown",
   "metadata": {
    "slideshow": {
     "slide_type": "fragment"
    }
   },
   "source": [
    "## 你可以寫 Python 和用 `Requests` 模組 來下載一些資料了！"
   ]
  },
  {
   "cell_type": "markdown",
   "metadata": {
    "slideshow": {
     "slide_type": "fragment"
    }
   },
   "source": [
    "## 然後呢？還有嗎？"
   ]
  },
  {
   "cell_type": "markdown",
   "metadata": {
    "slideshow": {
     "slide_type": "subslide"
    }
   },
   "source": [
    "## 先點進<a href=\"https://e652424342007.github.io/X-village_course-design/\" target=\"_blank\">這個網頁</a>，然後試試下面的程式碼！"
   ]
  },
  {
   "cell_type": "code",
   "execution_count": null,
   "metadata": {
    "slideshow": {
     "slide_type": "fragment"
    }
   },
   "outputs": [],
   "source": [
    "import requests\n",
    "\n",
    "url = 'https://e652424342007.github.io/X-village_course-design/'\n",
    "response = requests.get(url)\n",
    "\n",
    "print(response.text)"
   ]
  },
  {
   "cell_type": "markdown",
   "metadata": {
    "slideshow": {
     "slide_type": "subslide"
    }
   },
   "source": [
    "## 我看到了一堆 `<` 和 `>` ，然後呢？？？"
   ]
  },
  {
   "cell_type": "code",
   "execution_count": 18,
   "metadata": {
    "slideshow": {
     "slide_type": "subslide"
    }
   },
   "outputs": [
    {
     "name": "stdout",
     "output_type": "stream",
     "text": [
      "<!DOCTYPE html>\n",
      "<html lang=\"zh-TW\">\n",
      "<head>\n",
      "\t<title>X-Village Requests</title>\n",
      "</head>\n",
      "\n",
      "<body>\n",
      "  <div class=\"chart\">\n",
      "    <div style=\"text-align:center; font-size: 70px;\">\n",
      "      <h1 id=\"page-title\" class=\"header1\">Requests 模組練習頁面</h1>\n",
      "      <h6 id=\"page-introduction\">\n",
      "\t\tLesson07 Python Requests module demo\n",
      "\t\t<br>\n",
      "\t\t<br>\n",
      "\t\t<a href=\"https://hackmd.io/c/ByMeYR1mm/https%3A%2F%2Fdocs.google.com%2Fforms%2Fd%2Fe%2F1FAIpQLSeIYlGHLJoQQyrMkXZ2TIz1tbDMlbdo9b1TeEMumu5V3h4mlg%2Fviewform\">X-Village Python Course</a>\n",
      "      </h6>\n",
      "    </div>\n",
      "    <div style=\"text-align:center; displa: flex;\">\n",
      "\t\t<input type=\"button\" value=\"放大燈\" onclick=\"bigger();\">\n",
      "\t\t<input type=\"button\" value=\"縮小燈\" onclick=\"smaller();\">\n",
      "\t</div>\n",
      "    <div style=\"text-align:center; display: flex; \">\n",
      "\t\t<div id=\"bigger\" onclick=\"bigger();\"></div>\n",
      "\t\t<div id=\"changed\" style=\"font-size: 14px;\">看我被改變</div>\n",
      "\t\t<div id=\"smaller\" onclick=\"smaller();\"></div>\n",
      "    </div>\n",
      "  </div>\n",
      "  \n",
      "  <style>\n",
      "\t#page-title {\n",
      "\t\tmargin-top: 80px;\n",
      "\t\tmargin-bottom: 0px;\n",
      "\t}\n",
      "\n",
      "\t#page-introduction {\n",
      "\t\tmargin-top: 40px;\n",
      "\t\tmargin-bottom: 40px;\n",
      "\t}\n",
      "\n",
      "\t#bigger, #smaller, #changed {\n",
      "\t\theight: 300px;\n",
      "\t}\n",
      "\n",
      "\t#bigger {\n",
      "\t\tflex: 0 0 40%;\n",
      "\t}\n",
      "\t#changed {\n",
      "\t\tflex: 1 0 20%;\n",
      "\t}\n",
      "\t#smaller {\n",
      "\t\tflex: 0 0 40%;\n",
      "\t}\n",
      "  </style>\n",
      "\n",
      "  <script>\n",
      "\tfunction bigger(){\n",
      "\t\tconsole.log(\"放大\");\n",
      "\t\tvar size = +document.getElementById(\"changed\").style.fontSize.replace(\"px\", \"\");\n",
      "\t\tdocument.getElementById(\"changed\").style.fontSize = (size+12) + \"px\";\n",
      "\t}\n",
      "\tfunction smaller(){\n",
      "\t\tconsole.log(\"縮小\");\n",
      "\t\tvar size = +document.getElementById(\"changed\").style.fontSize.replace(\"px\", \"\");\n",
      "\t\tdocument.getElementById(\"changed\").style.fontSize = (size-12) + \"px\";\n",
      "\t}\n",
      "  </script>\n",
      "</body></html>\n",
      "\n"
     ]
    }
   ],
   "source": [
    "import requests\n",
    "\n",
    "url = 'https://e652424342007.github.io/X-village_course-design/'\n",
    "response = requests.get(url)\n",
    "\n",
    "print(response.text)"
   ]
  },
  {
   "cell_type": "markdown",
   "metadata": {
    "slideshow": {
     "slide_type": "subslide"
    }
   },
   "source": [
    "## 我好像把在網頁瀏覽器上面看到的抓下來了 ..."
   ]
  },
  {
   "cell_type": "markdown",
   "metadata": {
    "slideshow": {
     "slide_type": "fragment"
    }
   },
   "source": [
    "## 你有聽過 <span style=\"color: blue;\">網頁爬蟲</span> 嗎"
   ]
  },
  {
   "cell_type": "markdown",
   "metadata": {
    "slideshow": {
     "slide_type": "fragment"
    }
   },
   "source": [
    "## 簡單來說就是把從網頁上看得到的東西，用程式把它抓下來，而不是透過瀏覽器"
   ]
  },
  {
   "cell_type": "markdown",
   "metadata": {
    "slideshow": {
     "slide_type": "subslide"
    }
   },
   "source": [
    "## 那抓下來可以做什麼？"
   ]
  },
  {
   "cell_type": "markdown",
   "metadata": {
    "slideshow": {
     "slide_type": "subslide"
    }
   },
   "source": [
    "## 情境: 假如你的夢想是去日本，你需要在最適合的時間把台幣換日幣！\n",
    "<center><img alt=\"japan\" src=\"./src/japan.png\"></center>"
   ]
  },
  {
   "cell_type": "markdown",
   "metadata": {
    "slideshow": {
     "slide_type": "subslide"
    }
   },
   "source": [
    "## 你要一直<span style=\"color: red;\">用手</span>刷新匯率的網站，然後看看什麼時候適合買日幣？\n",
    "<center><img alt=\"money\" src=\"./src/cr1.png\" width=\"800\" height=\"auto\"></center>"
   ]
  },
  {
   "cell_type": "markdown",
   "metadata": {
    "slideshow": {
     "slide_type": "subslide"
    }
   },
   "source": [
    "## 還是寫程式來自動抓資料，在日幣到達一定匯率時自動提醒你？\n",
    "<center><img alt=\"money\" src=\"./src/cr3.png\" width=\"800\" height=\"auto\"></center>"
   ]
  },
  {
   "cell_type": "markdown",
   "metadata": {
    "slideshow": {
     "slide_type": "subslide"
    }
   },
   "source": [
    "## 甚至還可以自己用程式畫匯率趨勢圖，用來做你想要的分析！"
   ]
  },
  {
   "cell_type": "markdown",
   "metadata": {
    "slideshow": {
     "slide_type": "subslide"
    }
   },
   "source": [
    "## `Requests` 模組 就是下載資料以及爬蟲的第一步！"
   ]
  },
  {
   "cell_type": "markdown",
   "metadata": {
    "slideshow": {
     "slide_type": "slide"
    }
   },
   "source": [
    "1. 為什麼叫做 Requests\n",
    "    * request/response\n",
    "        * Client/Server\n",
    "        * IP:Port\n",
    "2. HTTP protocol\n",
    "    * URL\n",
    "    * handshaking\n",
    "        * request/response\n",
    "    * HTTP method\n",
    "    * HTTPs\n",
    "3. DevTool (Chrome)\n",
    "    * Demo request/response\n",
    "    * Render response\n",
    "    * HTML\n",
    "        * <tag\\>\n",
    "            * attribute\n",
    "        * DOM\n",
    "        * Delete element           \n",
    "4. back to Requests\n",
    "    * 結合 Requests 與 HTTP method\n",
    "    * 結合 Requests 與 DevTool Network"
   ]
  },
  {
   "cell_type": "markdown",
   "metadata": {
    "slideshow": {
     "slide_type": "slide"
    }
   },
   "source": [
    "# 為什麼叫做 `Requests` 模組\n",
    "起源"
   ]
  },
  {
   "cell_type": "markdown",
   "metadata": {
    "slideshow": {
     "slide_type": "fragment"
    }
   },
   "source": [
    "![request_response](./src/request_response.png)"
   ]
  },
  {
   "cell_type": "markdown",
   "metadata": {
    "slideshow": {
     "slide_type": "slide"
    }
   },
   "source": [
    "# 用什麼語言做溝通"
   ]
  },
  {
   "cell_type": "markdown",
   "metadata": {
    "slideshow": {
     "slide_type": "subslide"
    }
   },
   "source": [
    "## Hypertext Transfer Protocol ([HTTP 協定](https://developer.mozilla.org/en-US/docs/Web/HTTP))\n",
    "<br>\n",
    "<center><img src=\"./src/http_protocol.png\" alt=\"http_protocol\"></center>\n",
    "如同大家在網址上經常看到的"
   ]
  },
  {
   "cell_type": "markdown",
   "metadata": {
    "slideshow": {
     "slide_type": "subslide"
    }
   },
   "source": [
    "## 那我們現在經常看到的 HTTPS 跟 HTTP 是否一樣呢?"
   ]
  },
  {
   "cell_type": "markdown",
   "metadata": {
    "slideshow": {
     "slide_type": "fragment"
    }
   },
   "source": [
    "<center><img alt=\"http\" src=\"./src/http_URL.png\" style=\"border: 5px black solid;\"></center>\n",
    "<center><a href=\"http://www.ltn.com.tw/\" style=\"font-size: 16px;\">點我</a></center>\n",
    "\n",
    "---\n",
    "\n",
    "<center><img alt=\"https\" src=\"./src/https_URL.png\" style=\"border:5px black solid;\" width=\"350\"></center>\n",
    "<center><a href=\"https://www.google.com/\" style=\"font-size: 16px;\">點我</a></center>"
   ]
  },
  {
   "cell_type": "markdown",
   "metadata": {
    "slideshow": {
     "slide_type": "subslide"
    }
   },
   "source": [
    "## 使用 HTTPS 比 HTTP 還安全 ！"
   ]
  },
  {
   "cell_type": "markdown",
   "metadata": {
    "slideshow": {
     "slide_type": "fragment"
    }
   },
   "source": [
    "### [補充] Secure Sockets Layer (SSL) / Transport Layer Security (TLS)\n",
    "* 兩個協定\n",
    "* SSL 為 TLS 的前身\n",
    "* 對通訊的對象進行身份驗證\n",
    "* 對通訊的內容進行加密"
   ]
  },
  {
   "cell_type": "markdown",
   "metadata": {
    "slideshow": {
     "slide_type": "slide"
    }
   },
   "source": [
    "## HTTP message (HTTP 訊息)\n",
    "* 表示 伺服端 與 用戶端 之間的資料用什麼格式傳遞"
   ]
  },
  {
   "cell_type": "markdown",
   "metadata": {
    "slideshow": {
     "slide_type": "subslide"
    }
   },
   "source": [
    "## HTTP message\n",
    "* 兩種類型\n",
    "    * 請求訊息: 從用戶端傳送到伺服端，用來觸發伺服端一個動作\n",
    "    * 回應訊息: 伺服端對於用戶端的回應"
   ]
  },
  {
   "cell_type": "markdown",
   "metadata": {
    "slideshow": {
     "slide_type": "subslide"
    }
   },
   "source": [
    "<center><img alt=\"request_response\" src=\"./src/request_response.png\"></center>"
   ]
  },
  {
   "cell_type": "markdown",
   "metadata": {
    "slideshow": {
     "slide_type": "subslide"
    }
   },
   "source": [
    "## HTTP 訊息格式\n",
    "<center><img alt=\"http_message\" src=\"./src/http_message.png\"></center>"
   ]
  },
  {
   "cell_type": "markdown",
   "metadata": {
    "slideshow": {
     "slide_type": "subslide"
    }
   },
   "source": [
    "<center><img src=\"./src/request_response_message.png\" alt=\"request_response_message\"></center>\n",
    "\n",
    "用這個格式溝通，就不用使用一堆語言跟一堆不同國家的人溝通"
   ]
  },
  {
   "cell_type": "markdown",
   "metadata": {
    "slideshow": {
     "slide_type": "subslide"
    }
   },
   "source": [
    "## <span style=\"color: green\">請求</span> 訊息\n",
    "<center><img alt=\"http_message\" src=\"./src/http_message.png\"></center>"
   ]
  },
  {
   "cell_type": "markdown",
   "metadata": {
    "slideshow": {
     "slide_type": "subslide"
    }
   },
   "source": [
    "## <span style=\"color: green\">請求</span> 訊息 : Start line (起始行)\n",
    "<center><img alt=\"request-startline\" src=\"./src/request_startline.png\"></center>"
   ]
  },
  {
   "cell_type": "markdown",
   "metadata": {
    "slideshow": {
     "slide_type": "subslide"
    }
   },
   "source": [
    "## HTTP 方法\n",
    "* <mark style=\"font-size:40px; font-weight: bold;\">GET</mark>\n",
    "* <mark style=\"font-size:40px; font-weight: bold;\">POST</mark>\n",
    "* DELETE\n",
    "* PUT\n",
    "* HEAD\n",
    "* CONNECT \n",
    "* OPTIONS\n",
    "* TRACE \n",
    "* PATCH \n",
    "\n",
    "[參考連結(英)](https://developer.mozilla.org/en-US/docs/Web/HTTP/Methods)\n",
    "[參考連結(中)](https://developer.mozilla.org/zh-TW/docs/Web/HTTP/Methods)"
   ]
  },
  {
   "cell_type": "markdown",
   "metadata": {
    "slideshow": {
     "slide_type": "subslide"
    }
   },
   "source": [
    "## HTTP 方法 : GET\n",
    "* GET : 請求指定資源"
   ]
  },
  {
   "cell_type": "markdown",
   "metadata": {
    "slideshow": {
     "slide_type": "fragment"
    }
   },
   "source": [
    "<center><img alt=\"get_method\" src=\"./src/get_method.png\" width=\"400px\" height=\"auto\"></center>"
   ]
  },
  {
   "cell_type": "markdown",
   "metadata": {
    "slideshow": {
     "slide_type": "subslide"
    }
   },
   "source": [
    "## HTTP 方法 : POST\n",
    "* POST : 用於提交指定資源的實體，通常會改變伺服器的狀態或副作用\n",
    "\n",
    "POST 改變狀態，下次只要登入，因為伺服端已經有你的資訊了，不用再次註冊"
   ]
  },
  {
   "cell_type": "markdown",
   "metadata": {
    "slideshow": {
     "slide_type": "fragment"
    }
   },
   "source": [
    "<center><img alt=\"post_method\" src=\"./src/post_method.png\" width=\"400px\" height=\"auto\"></center>"
   ]
  },
  {
   "cell_type": "markdown",
   "metadata": {
    "slideshow": {
     "slide_type": "subslide"
    }
   },
   "source": [
    "## <span style=\"color: green\">請求</span> 訊息的真實例子\n",
    "![request](./src/request_.png)\n",
    "\n",
    "[圖片來源](https://developer.mozilla.org/en-US/docs/Web/HTTP/Messages)"
   ]
  },
  {
   "cell_type": "markdown",
   "metadata": {
    "slideshow": {
     "slide_type": "subslide"
    }
   },
   "source": [
    "## <span style=\"color: blue\">回應</span> 訊息\n",
    "<center><img alt=\"http_message\" src=\"./src/http_message_response.png\"></center>"
   ]
  },
  {
   "cell_type": "markdown",
   "metadata": {
    "slideshow": {
     "slide_type": "subslide"
    }
   },
   "source": [
    "## <span style=\"color: blue\">回應</span> 訊息 : Start line (起始行)\n",
    "<center><img alt=\"request-startline\" src=\"./src/response_startline.png\"></center>"
   ]
  },
  {
   "cell_type": "markdown",
   "metadata": {
    "slideshow": {
     "slide_type": "subslide"
    }
   },
   "source": [
    "## 狀態碼 (status code)\n"
   ]
  },
  {
   "cell_type": "markdown",
   "metadata": {
    "slideshow": {
     "slide_type": "subslide"
    }
   },
   "source": [
    "<center><img src=\"./src/404.png\" width=\"700\" height=\"70%\"></center>"
   ]
  },
  {
   "cell_type": "markdown",
   "metadata": {
    "slideshow": {
     "slide_type": "subslide"
    }
   },
   "source": [
    "<center><img src=\"./src/404_highlight.png\" width=\"700\" height=\"70%\"></center>"
   ]
  },
  {
   "cell_type": "markdown",
   "metadata": {
    "slideshow": {
     "slide_type": "subslide"
    }
   },
   "source": [
    "## 狀態碼 (Status code)\n",
    "* **1xx** &#160;  訊息 — 請求已被伺服端接收 \n",
    "* **2xx** &#160;  成功 — 請求已成功被伺服器接收、理解、並接受 \n",
    "* **3xx** &#160;  重新導向 — 需要後續操作才能完成這一請求 \n",
    "* **4xx** &#160;  請求錯誤 — 請求含有語法錯誤或者無法被執行 \n",
    "* **5xx** &#160;  伺服器錯誤 — 伺服器在處理某個正確請求時發生錯誤 (不知道如何處理、HTTP版本不對) "
   ]
  },
  {
   "cell_type": "markdown",
   "metadata": {
    "slideshow": {
     "slide_type": "subslide"
    }
   },
   "source": [
    "## 狀態碼例子\n",
    "* `200 OK` : 請求成功 <br>\n",
    "* `404 Not Found` : 找不到請求的資源\n",
    "* `405 Method Not Allowed`: 伺服端理解的 HTTP 方法,但它被禁用或不可被使用"
   ]
  },
  {
   "cell_type": "markdown",
   "metadata": {
    "slideshow": {
     "slide_type": "subslide"
    }
   },
   "source": [
    "## <span style=\"color: blue\">回應</span> 訊息的現實例子\n",
    "![response](./src/response_.png)\n",
    "\n",
    "有些 header 與 request 的欄位名字相同，有些則為 response 才有的，例如: eTag : 某個資源的版本\n",
    "\n",
    "[圖片來源](https://developer.mozilla.org/en-US/docs/Web/HTTP/Messages)"
   ]
  },
  {
   "cell_type": "markdown",
   "metadata": {
    "slideshow": {
     "slide_type": "subslide"
    }
   },
   "source": [
    "<center><img src=\"./src/request_response_message.png\" alt=\"request_response_message\"></center>\n",
    "\n",
    "這就是 HTTP 協定和 HTTP 訊息，在用戶端以及伺服端之間的溝通和關係"
   ]
  },
  {
   "cell_type": "markdown",
   "metadata": {
    "slideshow": {
     "slide_type": "slide"
    }
   },
   "source": [
    "# 網頁開發者工具 (DevTool)  \n",
    "* 請使用 Google Chrome 瀏覽器\n",
    "<br>\n",
    "* Demo request/response\n",
    "* Render response\n",
    "* HTML\n",
    "    * <tag\\>\n",
    "        * attribute\n",
    "    * DOM\n",
    "    * Delete element\n",
    "<br>\n",
    "[參考連結](https://developers.google.com/web/tools/chrome-devtools/?hl=zh-tw#_2)"
   ]
  },
  {
   "cell_type": "markdown",
   "metadata": {
    "slideshow": {
     "slide_type": "subslide"
    }
   },
   "source": [
    "## 什麼是網頁開發者工具？"
   ]
  },
  {
   "cell_type": "markdown",
   "metadata": {
    "slideshow": {
     "slide_type": "subslide"
    }
   },
   "source": [
    "## 打開這個<a href=\"https://e652424342007.github.io/X-village_course-design/\" target=\"_blank\">網頁</a>"
   ]
  },
  {
   "cell_type": "markdown",
   "metadata": {
    "slideshow": {
     "slide_type": "subslide"
    }
   },
   "source": [
    "### 如何打開開發者工具\n",
    "* 在 Google Chrome 瀏覽器下對網頁點右鍵->檢查"
   ]
  },
  {
   "cell_type": "markdown",
   "metadata": {
    "slideshow": {
     "slide_type": "fragment"
    }
   },
   "source": [
    "會出現\n",
    "![devtool](./src/devtool.png)"
   ]
  },
  {
   "cell_type": "markdown",
   "metadata": {
    "slideshow": {
     "slide_type": "subslide"
    }
   },
   "source": [
    "### 查看 `Elements` (元素)\n",
    "[提醒是簡單概念介紹，不會去寫這個] (聽過得人舉手/寫過得人舉手)"
   ]
  },
  {
   "cell_type": "markdown",
   "metadata": {
    "slideshow": {
     "slide_type": "fragment"
    }
   },
   "source": [
    "## HyperText Markup Language (HTML) / HTML tag(標籤)"
   ]
  },
  {
   "cell_type": "markdown",
   "metadata": {
    "slideshow": {
     "slide_type": "fragment"
    }
   },
   "source": [
    "###  開始標籤 +  結束標籤 = HTML 文件的基本組成單位\n",
    "<center><img alt=\"devtool_html\" src=\"./src/devtool_html.png\"></center>"
   ]
  },
  {
   "cell_type": "markdown",
   "metadata": {
    "slideshow": {
     "slide_type": "subslide"
    }
   },
   "source": [
    "## 開始標籤 與 結束標籤 之間可以放其他內容\n",
    "* 例如: HTML 標籤、文字 ...\n",
    "<center><img alt=\"devtool_html\" src=\"./src/html_content.png\" width=\"400px\" height=\"auto\"></center>"
   ]
  },
  {
   "cell_type": "markdown",
   "metadata": {
    "slideshow": {
     "slide_type": "subslide"
    }
   },
   "source": [
    "## HTML 文件的典型架構\n",
    "```html\n",
    "<!DOCTYPE html>\n",
    "<html>\n",
    "    \n",
    "  <head>\n",
    "    <!-- Document metadata -->\n",
    "  </head>\n",
    "    \n",
    "  <body>\n",
    "    <!-- Document content -->\n",
    "  </body>\n",
    "    \n",
    "</html>\n",
    "```"
   ]
  },
  {
   "cell_type": "markdown",
   "metadata": {
    "slideshow": {
     "slide_type": "subslide"
    }
   },
   "source": [
    "## HTML 文件的典型架構\n",
    "<center><img alt=\"html_basic_structure\" src=\"./src/html_basic_structure.png\" width=\"300\" height=\"auto\"></center>"
   ]
  },
  {
   "cell_type": "markdown",
   "metadata": {
    "slideshow": {
     "slide_type": "subslide"
    }
   },
   "source": [
    "## HTML 標籤介紹"
   ]
  },
  {
   "cell_type": "markdown",
   "metadata": {
    "slideshow": {
     "slide_type": "subslide"
    }
   },
   "source": [
    "## `<html>  ...  </html>`\n",
    "* 告訴瀏覽器這是一個 HTML 文件\n",
    "* 所有其他 HTML 標籤 都放在 `<html> ... </html>` 這裡面"
   ]
  },
  {
   "cell_type": "markdown",
   "metadata": {
    "slideshow": {
     "slide_type": "subslide"
    }
   },
   "source": [
    "## `<head> ... </head>`\n",
    "* 提供 HTML 文件一般性的資訊\n",
    "    * 例如: 給搜尋引擎關鍵字、網頁的描述 ...\n",
    "* 不會渲染在瀏覽器裡面"
   ]
  },
  {
   "cell_type": "markdown",
   "metadata": {
    "slideshow": {
     "slide_type": "subslide"
    }
   },
   "source": [
    "## `<body>  ...  </body>`\n",
    "* 放網頁會顯示的內容\n",
    "    * 文字、圖片、連結 ..."
   ]
  },
  {
   "cell_type": "markdown",
   "metadata": {
    "slideshow": {
     "slide_type": "subslide"
    }
   },
   "source": [
    "## `<h1>  ...  </h1>`  (heading)\n",
    "# h1 tag"
   ]
  },
  {
   "cell_type": "markdown",
   "metadata": {
    "slideshow": {
     "slide_type": "fragment"
    }
   },
   "source": [
    "## `<h2>  ...  </h2>`\n",
    "## h2 tag"
   ]
  },
  {
   "cell_type": "markdown",
   "metadata": {
    "slideshow": {
     "slide_type": "fragment"
    }
   },
   "source": [
    "## `<h3>  ...  </h3>`\n",
    "### h3 tag"
   ]
  },
  {
   "cell_type": "markdown",
   "metadata": {
    "slideshow": {
     "slide_type": "subslide"
    }
   },
   "source": [
    "## `<h4>  ...  </h4>`\n",
    "#### h4 tag"
   ]
  },
  {
   "cell_type": "markdown",
   "metadata": {
    "slideshow": {
     "slide_type": "fragment"
    }
   },
   "source": [
    "## `<h5>  ...  </h5>`\n",
    "##### h5 tag"
   ]
  },
  {
   "cell_type": "markdown",
   "metadata": {
    "slideshow": {
     "slide_type": "fragment"
    }
   },
   "source": [
    "\n",
    "## `<h6>  ...  </h6>`\n",
    "###### h6 tag"
   ]
  },
  {
   "cell_type": "markdown",
   "metadata": {
    "slideshow": {
     "slide_type": "subslide"
    }
   },
   "source": [
    "## 把 `<h1> ~ <h6>` 放在一起看\n",
    "<center><img alt=\"h_tag\" src=\"./src/h_tag.png\"></center>"
   ]
  },
  {
   "cell_type": "markdown",
   "metadata": {
    "slideshow": {
     "slide_type": "subslide"
    }
   },
   "source": [
    "## `<a>  ...  </a>`\n",
    "<center><a href=\"#\">a tag 是 anchor，用來產生一個網址的超連結</a></center>"
   ]
  },
  {
   "cell_type": "markdown",
   "metadata": {
    "slideshow": {
     "slide_type": "fragment"
    }
   },
   "source": [
    "## `<img>  ...  </img>` (image)\n",
    "<center><img alt=\"puppy\" src=\"./src/puppy.jpg\" width=\"200\" height=\"auto\"></center>"
   ]
  },
  {
   "cell_type": "markdown",
   "metadata": {
    "slideshow": {
     "slide_type": "subslide"
    }
   },
   "source": [
    "## `<p>  ...  </p>`\n",
    "<center><p align=\"center\">p 標籤是文字段落 (paragraph)</p></center>"
   ]
  },
  {
   "cell_type": "markdown",
   "metadata": {
    "slideshow": {
     "slide_type": "subslide"
    }
   },
   "source": [
    "## `<ul>  ...  </ul>` (unorderd list)"
   ]
  },
  {
   "cell_type": "markdown",
   "metadata": {
    "slideshow": {
     "slide_type": "fragment"
    }
   },
   "source": [
    "## `<li>  ...  </li>`\n",
    "<ul>\n",
    "    <li>第一個 list item</li>\n",
    "    <li>第二個 list item</li>\n",
    "    <li>第三個 list item</li>\n",
    "</ul>"
   ]
  },
  {
   "cell_type": "markdown",
   "metadata": {
    "slideshow": {
     "slide_type": "subslide"
    }
   },
   "source": [
    "## `<ol>  ...  </ol>` (ordered list)"
   ]
  },
  {
   "cell_type": "markdown",
   "metadata": {
    "slideshow": {
     "slide_type": "fragment"
    }
   },
   "source": [
    "## `<li>  ...  </li>`\n",
    "<ol>\n",
    "    <li>第一個 list item</li>\n",
    "    <li>第二個 list item</li>\n",
    "    <li>第三個 list item</li>\n",
    "</ol>"
   ]
  },
  {
   "cell_type": "markdown",
   "metadata": {
    "slideshow": {
     "slide_type": "subslide"
    }
   },
   "source": [
    "## `<div>  ...  </div>` (division)\n",
    "* 經常被當作其他 HTML 標籤 的容器，可以同時對這裡面的 HTML 標籤 修改樣式以及改變架構\n",
    "    * 例子:\n",
    "    <div>使用 div 來把文字分區塊</div>\n",
    "    <div>這裡是第二個區塊</div>"
   ]
  },
  {
   "cell_type": "markdown",
   "metadata": {
    "slideshow": {
     "slide_type": "fragment"
    }
   },
   "source": [
    "## `<span>  ...  </span>`\n",
    "* 用在較細部的設計\n",
    "    * 例子: <div>使用 span 來改變<span style=\"color:blue\">文字的顏色</span></div>\n",
    "<div>上面的是<span style=\"color:blue;\">藍色</span> 這裡的是 <span style=\"color: red;\">紅色</span></div>"
   ]
  },
  {
   "cell_type": "markdown",
   "metadata": {
    "slideshow": {
     "slide_type": "subslide"
    }
   },
   "source": [
    "## HTML 標籤的屬性\n",
    "<center><img alt=\"devtool_html\" src=\"./src/devtool_attribute.png\"></center>"
   ]
  },
  {
   "cell_type": "markdown",
   "metadata": {
    "slideshow": {
     "slide_type": "subslide"
    }
   },
   "source": [
    "## HTML 標籤的屬性\n",
    "* 賦予某個 HTML 標籤額外的資訊\n",
    "* 必須放在**開始標籤**內\n",
    "* 所有屬性都由 `名字=值` 組成  (`name=value`)"
   ]
  },
  {
   "cell_type": "markdown",
   "metadata": {
    "slideshow": {
     "slide_type": "subslide"
    }
   },
   "source": [
    "## `lang` (language, 語言)\n",
    "* 指定 HTML 標籤裡的內容所使用的語言"
   ]
  },
  {
   "cell_type": "markdown",
   "metadata": {
    "slideshow": {
     "slide_type": "subslide"
    }
   },
   "source": [
    "## `id` (identifier, 識別符)\n",
    "* 給 HTML 標籤一個 **獨一無二** 的識別符\n",
    "* 常被用來讓 CSS 對 **某個 HTML 標籤** 進行樣式修改\n",
    "* 也可以被當作 JavaScript 進行操作時所選擇的**唯一對象**"
   ]
  },
  {
   "cell_type": "markdown",
   "metadata": {
    "slideshow": {
     "slide_type": "subslide"
    }
   },
   "source": [
    "## `class` (分類)\n",
    "* 指定 **一個或多個** 分類的名稱給 HTML 標籤 \n",
    "    * 有多個`class`的值時，用空白分隔\n",
    "* 常被用來讓 CSS 對 **某個分類** 進行樣式修改\n",
    "* 也可以被當作 JavaScript 進行操作時**所選擇的分類**\n",
    "\n",
    "類似元素，或是某一類元素"
   ]
  },
  {
   "cell_type": "markdown",
   "metadata": {
    "slideshow": {
     "slide_type": "subslide"
    }
   },
   "source": [
    "## `style` (樣式)\n",
    "* 用來指定 HTML 標籤的樣式 (使用 CSS)\n",
    "    * 例如: <p style=\"font-weight: bold; color: blue;\">這是藍色且是使用粗體的文字</p>"
   ]
  },
  {
   "cell_type": "markdown",
   "metadata": {
    "slideshow": {
     "slide_type": "subslide"
    }
   },
   "source": [
    "## 練習\n",
    "* <p style=\"color: green;\">把這些文字改成黃色</p>"
   ]
  },
  {
   "cell_type": "markdown",
   "metadata": {
    "slideshow": {
     "slide_type": "subslide"
    }
   },
   "source": [
    "## `href` (hypertext reference)\n",
    "* 用來指定點擊超連結會前往的網址\n",
    "* 最常被使用在 `a` 標籤\n",
    "    * 例如: <a href=\"https://hackmd.io/c/ByMeYR1mm/https%3A%2F%2Fdocs.google.com%2Fforms%2Fd%2Fe%2F1FAIpQLSeIYlGHLJoQQyrMkXZ2TIz1tbDMlbdo9b1TeEMumu5V3h4mlg%2Fviewform\" target=\"_blank\">點我前往課程教材</a>"
   ]
  },
  {
   "cell_type": "markdown",
   "metadata": {
    "slideshow": {
     "slide_type": "subslide"
    }
   },
   "source": [
    "## 練習\n",
    "* 把 <a href=\"https://google.com\">這個連結</a> 的超連結網址改成課程教材的網址，並點它看看\n"
   ]
  },
  {
   "cell_type": "markdown",
   "metadata": {
    "slideshow": {
     "slide_type": "subslide"
    }
   },
   "source": [
    "## `src` (source, 來源)\n",
    "* 用來指定資源的位置\n",
    "    * 例如: 照片 (用在 `img` 標籤)"
   ]
  },
  {
   "cell_type": "markdown",
   "metadata": {
    "slideshow": {
     "slide_type": "subslide"
    }
   },
   "source": [
    "## 練習\n",
    "嘗試把這張狗的照片來源改成 https://tvax1.sinaimg.cn/crop.8.0.1109.1109.180/006WRyWGly8fnagesvr6jj30v90utdhe.jpg\n",
    "<br>請問你看到什麼品種的狗？\n",
    "<center><img alt=\"puppy\" src=\"./src/puppy.jpg\" width=\"200\" height=\"auto\"></center>"
   ]
  },
  {
   "cell_type": "markdown",
   "metadata": {
    "slideshow": {
     "slide_type": "subslide"
    }
   },
   "source": [
    "## 練習 (不計分)\n",
    "請問 [這個網頁](https://e652424342007.github.io/X-village_course-design/)中最大的字 \"Requests 模組練習頁面\"\n",
    "1. 是使用什麼 HTML 標籤？\n",
    "2. 有幾個屬性？\n",
    "3. 每個屬性的值是什麼？\n"
   ]
  },
  {
   "cell_type": "markdown",
   "metadata": {
    "slideshow": {
     "slide_type": "subslide"
    }
   },
   "source": [
    "### 查看 `Network` (網路)"
   ]
  },
  {
   "cell_type": "markdown",
   "metadata": {
    "slideshow": {
     "slide_type": "subslide"
    }
   },
   "source": [
    "## 跟著我操作\n",
    "1. 在開發者工具裡面點 `Network`\n",
    "2. 按鍵盤組合鍵\n",
    "    * Windows、Linux: `Ctrl+F5`\n",
    "    * Mac: ``"
   ]
  },
  {
   "cell_type": "markdown",
   "metadata": {
    "slideshow": {
     "slide_type": "subslide"
    }
   },
   "source": [
    "![stream](./src/devtool_network_stream.png)"
   ]
  },
  {
   "cell_type": "markdown",
   "metadata": {
    "slideshow": {
     "slide_type": "subslide"
    }
   },
   "source": [
    "![stream](./src/devtool_network_header.png)"
   ]
  },
  {
   "cell_type": "markdown",
   "metadata": {
    "slideshow": {
     "slide_type": "slide"
    }
   },
   "source": [
    "# 再複習一次:  `Requests` 模組 的用途是..."
   ]
  },
  {
   "cell_type": "markdown",
   "metadata": {
    "slideshow": {
     "slide_type": "subslide"
    }
   },
   "source": [
    "<center><img src=\"./src/requests_module.png\" alt=\"requests_module\"></center>"
   ]
  },
  {
   "cell_type": "markdown",
   "metadata": {
    "slideshow": {
     "slide_type": "subslide"
    }
   },
   "source": [
    "## 把剛剛聽到的 \n",
    "* HTTP 方法 (HTTP Method)\n",
    "* 狀態碼 (Status code)\n",
    "* 狀態碼描述 (description)\n",
    "* 標頭 (header)"
   ]
  },
  {
   "cell_type": "markdown",
   "metadata": {
    "slideshow": {
     "slide_type": "fragment"
    }
   },
   "source": [
    "## 跟 `Requests` 模組 做結合"
   ]
  },
  {
   "cell_type": "markdown",
   "metadata": {
    "slideshow": {
     "slide_type": "subslide"
    }
   },
   "source": [
    "# 回到 `Requests`\n",
    "* 結合 Requests 與 HTTP method , Status code\n",
    "* 結合 Requests 與 DevTool Network\n",
    "* encoding, text\n",
    "* 下載東西 (記不記得下載的東西是什麼 有印象嗎？) 並寫檔 .json\n",
    "* 查看 request header\n",
    "\n",
    "\n",
    "* url/text/encoding/content/status_code/headers[]/reason (response)\n",
    "* (response.request) body/headers[]/method/url\n",
    "* demo get 沒有 body"
   ]
  },
  {
   "cell_type": "markdown",
   "metadata": {
    "slideshow": {
     "slide_type": "subslide"
    }
   },
   "source": [
    "## 練習: 觀察 GET 和 DevTool Network 的東西是否相同？ (不計分)"
   ]
  },
  {
   "cell_type": "markdown",
   "metadata": {
    "slideshow": {
     "slide_type": "subslide"
    }
   },
   "source": [
    "## 我想要自己設定 header，不想要交給 `Reqeusts`，可以嗎？"
   ]
  },
  {
   "cell_type": "markdown",
   "metadata": {
    "slideshow": {
     "slide_type": "fragment"
    }
   },
   "source": [
    "可以，請洽 `Requests` [官方 document](http://docs.python-requests.org/en/master/)"
   ]
  },
  {
   "cell_type": "markdown",
   "metadata": {
    "slideshow": {
     "slide_type": "subslide"
    }
   },
   "source": [
    "## 練習 : 客製化 <span style=\"color: green;\">請求</span>訊息的 header 1 (計分)\n",
    "1. 到 `Requests` 官方 [document](http://docs.python-requests.org/en/master/user/quickstart/) 或 使用 Google\n",
    "2. 尋找如何客製化 <span style=\"color: green;\">請求</span>訊息的 header\n",
    "3. 把 `user-agent` 這個欄位設定成 `X-Village/Python-course/7-18`\n",
    "4. 根據第 3 步驟的 header 對 `https://e652424342007.github.io/X-village_course-design/` 這個網址發出 <span style=\"color: green;\">請求</span>訊息\n",
    "5. 得到 <span style=\"color: blue\">回應</span>訊息之後，印出你所送出的 <span style=\"color: green;\">請求</span>訊息的 header，並查看 `user-agent` 是否為 `X-Village/Python-course/7-18`\n"
   ]
  },
  {
   "cell_type": "markdown",
   "metadata": {
    "slideshow": {
     "slide_type": "subslide"
    }
   },
   "source": [
    "## 練習 : 客製化 請求訊息的 header 2(不計分)\n",
    "1. 先對 `https://developer.mozilla.org/docs/Web/HTML` 發出 請求訊息\n",
    "2. 把 回應訊息 的內容寫到檔名為 `index.html` 的檔案裡\n",
    "3. 用瀏覽器打開這個檔案 (可以嘗試點兩下這個檔案 或是 把這個檔案用滑鼠拖到瀏覽器裡面)\n",
    "4. 查看內容，是否為全英文的內容？"
   ]
  },
  {
   "cell_type": "markdown",
   "metadata": {
    "slideshow": {
     "slide_type": "subslide"
    }
   },
   "source": [
    "## 練習 : 客製化 請求訊息的 header 2 接續前一頁 (不計分)\n",
    "5. 把 請求訊息 header 中的 `Accept-Language` 設定成 `zh-TW,zh;q=0.9,en-US;q=0.8,en;q=0.7`\n",
    "6. 根據上一步驟的 header，再次向 `https://developer.mozilla.org/docs/Web/HTML` 送出請求訊息\n",
    "7. 把 回應訊息 的內容寫到檔名為 `index_tw.html` 的檔案裡\n",
    "8. 用瀏覽器打開這個檔案 (可以嘗試點兩下這個檔案 或是 把這個檔案用滑鼠拖到瀏覽器裡面)\n",
    "9. 查看內容，是否內容變成中文了？\n",
    "\n",
    "### 根據前面上課的內容思考看看為什麼？"
   ]
  },
  {
   "cell_type": "markdown",
   "metadata": {
    "slideshow": {
     "slide_type": "slide"
    }
   },
   "source": [
    "## 參考資料\n",
    "* [MDN - HTTP message](https://developer.mozilla.org/en-US/docs/Web/HTTP/Messages)\n",
    "* [MDN - HTTP request methods](https://developer.mozilla.org/en-US/docs/Web/HTTP/Methods)\n",
    "* [TCP / three way handshake](https://notfalse.net/7/three-way-handshake)\n",
    "* [什麼是 SSL、TLS 以及 HTTPS？](https://www.websecurity.symantec.com/zh/tw/security-topics/what-is-ssl-tls-https)\n",
    "* [MDN - HTTP Response status code](https://developer.mozilla.org/zh-TW/docs/Web/HTTP/Status)"
   ]
  }
 ],
 "metadata": {
  "celltoolbar": "Slideshow",
  "kernelspec": {
   "display_name": "Python 3",
   "language": "python",
   "name": "python3"
  },
  "language_info": {
   "codemirror_mode": {
    "name": "ipython",
    "version": 3
   },
   "file_extension": ".py",
   "mimetype": "text/x-python",
   "name": "python",
   "nbconvert_exporter": "python",
   "pygments_lexer": "ipython3",
   "version": "3.5.2"
  }
 },
 "nbformat": 4,
 "nbformat_minor": 2
}
